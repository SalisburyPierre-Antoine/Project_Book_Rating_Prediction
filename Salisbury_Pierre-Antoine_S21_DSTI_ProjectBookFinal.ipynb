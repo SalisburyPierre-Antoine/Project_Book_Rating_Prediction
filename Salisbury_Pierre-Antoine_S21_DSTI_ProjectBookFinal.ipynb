{
 "cells": [
  {
   "cell_type": "raw",
   "id": "dc49027c",
   "metadata": {},
   "source": [
    "Student : Pierre-Antoine Salisbury          Instructor : Hanna Abi Akl\n",
    "Course : Python Machine Learning Labs\n",
    "Project : Book Rating Model\n",
    "\n",
    "From the Goodreads dataset based on real information from readers, we will study and exploit the data in order to propose predictive models concerning the appreciation of books. The goal of this project is to predict the book rating and analysis which factor affect the rating most.\n",
    "\n",
    "What is our target variable ? What are our explanatory variables ? Target variable : average_rating. Predictors : other variables selected in part 3. \n",
    "\n",
    "To do so, it is necessary to proceed in three key steps :\n",
    "\n",
    "First, we will prepare our dataset to allow data analysis (data processing, data cleaning, exploratory analysis, plot of relevant attributes).\n",
    "\n",
    "- Data verification                                \n",
    "- Fixed the error on the num_pages column\n",
    "- Fixed the error on J.K. Rowling\n",
    "- Conversion to the appropriate data type on publication_date\n",
    "- Replacing null values with the correct dates\n",
    "- Box plot :  verification of extreme values which can bias the average  outliers which are often input errors,  correction on the num_pages column\n",
    "- 4 histograms on Top 5 (Occurrences, Rates, Publishers, Authors)\n",
    "\n",
    "\n",
    "In a second step, we will proceed to the feature selection (feature engineering, feature pruning, choice justification)\n",
    "\n",
    "- Extraction of the year of publication in a new column \n",
    "- Add a new feature which has the number of occurrences of each book\n",
    "- Encoding of the language_code column renamed to language, deletion of under-represented languages\n",
    "- Pie plot of our new language column with book languages in percentage\n",
    "- Scatter plot : text_review_count and year\n",
    "- Creation of categorical columns (text) : average_rating_cat, num_pages_cat, year_cat\n",
    "- Creation of categorical columns (integer): average_rating_cat_num, num_pages_cat_num, year_cat_num\n",
    "- Using sns and crosstab to make choice justification\n",
    "- Correlation : we choose the one that seems to us the most striking : between average_rating and num_pages_cat_num\n",
    "- Encoding: explicit the \"num_pages_cat_num\" column by converting it to 3 columns\n",
    "\n",
    "\n",
    "Finally, we will select models by evaluating them (elvaluation metrics, results interpretation) in order to train the models to better compare them and choose the one that is most appropriate and gives the best results.\n",
    "\n",
    "- Split the data into Train and Test\n",
    "- Initialize and train the model\n",
    "- First model : linear regression\n",
    "- Evaluate the prediction\n",
    "- Compare different models"
   ]
  },
  {
   "cell_type": "code",
   "execution_count": 430,
   "id": "acb8f637",
   "metadata": {},
   "outputs": [],
   "source": [
    "# Import libraries\n",
    "import pandas as pd\n",
    "import numpy as np\n",
    "import seaborn as sns\n",
    "import matplotlib.pyplot as  plt"
   ]
  },
  {
   "cell_type": "markdown",
   "id": "7604172b",
   "metadata": {},
   "source": [
    "# PART 1 : Analyse"
   ]
  },
  {
   "cell_type": "markdown",
   "id": "943a8746",
   "metadata": {},
   "source": [
    "- Data verification"
   ]
  },
  {
   "cell_type": "code",
   "execution_count": 431,
   "id": "a84d5161",
   "metadata": {},
   "outputs": [],
   "source": [
    "# Import the whole dataframe\n",
    "df = pd.read_csv(r\"C:\\Users\\Pierre-AntoineSALISB\\OneDrive - OCSI GROUP\\Bureau\\DSTI_courses\\Python\\Project\\books.csv\", on_bad_lines='skip')"
   ]
  },
  {
   "cell_type": "code",
   "execution_count": 432,
   "id": "bc21e627",
   "metadata": {},
   "outputs": [
    {
     "data": {
      "text/html": [
       "<div>\n",
       "<style scoped>\n",
       "    .dataframe tbody tr th:only-of-type {\n",
       "        vertical-align: middle;\n",
       "    }\n",
       "\n",
       "    .dataframe tbody tr th {\n",
       "        vertical-align: top;\n",
       "    }\n",
       "\n",
       "    .dataframe thead th {\n",
       "        text-align: right;\n",
       "    }\n",
       "</style>\n",
       "<table border=\"1\" class=\"dataframe\">\n",
       "  <thead>\n",
       "    <tr style=\"text-align: right;\">\n",
       "      <th></th>\n",
       "      <th>bookID</th>\n",
       "      <th>average_rating</th>\n",
       "      <th>isbn13</th>\n",
       "      <th>num_pages</th>\n",
       "      <th>ratings_count</th>\n",
       "      <th>text_reviews_count</th>\n",
       "    </tr>\n",
       "  </thead>\n",
       "  <tbody>\n",
       "    <tr>\n",
       "      <th>count</th>\n",
       "      <td>11123.000000</td>\n",
       "      <td>11123.000000</td>\n",
       "      <td>1.112300e+04</td>\n",
       "      <td>11123.000000</td>\n",
       "      <td>1.112300e+04</td>\n",
       "      <td>11123.000000</td>\n",
       "    </tr>\n",
       "    <tr>\n",
       "      <th>mean</th>\n",
       "      <td>21310.856963</td>\n",
       "      <td>3.934075</td>\n",
       "      <td>9.759880e+12</td>\n",
       "      <td>336.405556</td>\n",
       "      <td>1.794285e+04</td>\n",
       "      <td>542.048099</td>\n",
       "    </tr>\n",
       "    <tr>\n",
       "      <th>std</th>\n",
       "      <td>13094.727252</td>\n",
       "      <td>0.350485</td>\n",
       "      <td>4.429758e+11</td>\n",
       "      <td>241.152626</td>\n",
       "      <td>1.124992e+05</td>\n",
       "      <td>2576.619589</td>\n",
       "    </tr>\n",
       "    <tr>\n",
       "      <th>min</th>\n",
       "      <td>1.000000</td>\n",
       "      <td>0.000000</td>\n",
       "      <td>8.987060e+09</td>\n",
       "      <td>0.000000</td>\n",
       "      <td>0.000000e+00</td>\n",
       "      <td>0.000000</td>\n",
       "    </tr>\n",
       "    <tr>\n",
       "      <th>25%</th>\n",
       "      <td>10277.500000</td>\n",
       "      <td>3.770000</td>\n",
       "      <td>9.780345e+12</td>\n",
       "      <td>192.000000</td>\n",
       "      <td>1.040000e+02</td>\n",
       "      <td>9.000000</td>\n",
       "    </tr>\n",
       "    <tr>\n",
       "      <th>50%</th>\n",
       "      <td>20287.000000</td>\n",
       "      <td>3.960000</td>\n",
       "      <td>9.780582e+12</td>\n",
       "      <td>299.000000</td>\n",
       "      <td>7.450000e+02</td>\n",
       "      <td>47.000000</td>\n",
       "    </tr>\n",
       "    <tr>\n",
       "      <th>75%</th>\n",
       "      <td>32104.500000</td>\n",
       "      <td>4.140000</td>\n",
       "      <td>9.780872e+12</td>\n",
       "      <td>416.000000</td>\n",
       "      <td>5.000500e+03</td>\n",
       "      <td>238.000000</td>\n",
       "    </tr>\n",
       "    <tr>\n",
       "      <th>max</th>\n",
       "      <td>45641.000000</td>\n",
       "      <td>5.000000</td>\n",
       "      <td>9.790008e+12</td>\n",
       "      <td>6576.000000</td>\n",
       "      <td>4.597666e+06</td>\n",
       "      <td>94265.000000</td>\n",
       "    </tr>\n",
       "  </tbody>\n",
       "</table>\n",
       "</div>"
      ],
      "text/plain": [
       "             bookID  average_rating        isbn13     num_pages  \\\n",
       "count  11123.000000    11123.000000  1.112300e+04  11123.000000   \n",
       "mean   21310.856963        3.934075  9.759880e+12    336.405556   \n",
       "std    13094.727252        0.350485  4.429758e+11    241.152626   \n",
       "min        1.000000        0.000000  8.987060e+09      0.000000   \n",
       "25%    10277.500000        3.770000  9.780345e+12    192.000000   \n",
       "50%    20287.000000        3.960000  9.780582e+12    299.000000   \n",
       "75%    32104.500000        4.140000  9.780872e+12    416.000000   \n",
       "max    45641.000000        5.000000  9.790008e+12   6576.000000   \n",
       "\n",
       "       ratings_count  text_reviews_count  \n",
       "count   1.112300e+04        11123.000000  \n",
       "mean    1.794285e+04          542.048099  \n",
       "std     1.124992e+05         2576.619589  \n",
       "min     0.000000e+00            0.000000  \n",
       "25%     1.040000e+02            9.000000  \n",
       "50%     7.450000e+02           47.000000  \n",
       "75%     5.000500e+03          238.000000  \n",
       "max     4.597666e+06        94265.000000  "
      ]
     },
     "execution_count": 432,
     "metadata": {},
     "output_type": "execute_result"
    }
   ],
   "source": [
    "df.describe()\n",
    "# Generate descriptive statistics excluding NaN values.\n",
    "# We notice that the average rating given to a book is 3.9/5"
   ]
  },
  {
   "cell_type": "code",
   "execution_count": 433,
   "id": "1b72cd05",
   "metadata": {},
   "outputs": [
    {
     "data": {
      "text/plain": [
       "bookID                  int64\n",
       "title                  object\n",
       "authors                object\n",
       "average_rating        float64\n",
       "isbn                   object\n",
       "isbn13                  int64\n",
       "language_code          object\n",
       "  num_pages             int64\n",
       "ratings_count           int64\n",
       "text_reviews_count      int64\n",
       "publication_date       object\n",
       "publisher              object\n",
       "dtype: object"
      ]
     },
     "execution_count": 433,
     "metadata": {},
     "output_type": "execute_result"
    }
   ],
   "source": [
    "df.dtypes # This returns a Series with the data type of each column. The result’s index is the original DataFrame’s columns. Columns with mixed types are stored with the object dtype."
   ]
  },
  {
   "cell_type": "code",
   "execution_count": 434,
   "id": "21e19a47",
   "metadata": {},
   "outputs": [
    {
     "data": {
      "text/plain": [
       "bookID                0\n",
       "title                 0\n",
       "authors               0\n",
       "average_rating        0\n",
       "isbn                  0\n",
       "isbn13                0\n",
       "language_code         0\n",
       "  num_pages           0\n",
       "ratings_count         0\n",
       "text_reviews_count    0\n",
       "publication_date      0\n",
       "publisher             0\n",
       "dtype: int64"
      ]
     },
     "execution_count": 434,
     "metadata": {},
     "output_type": "execute_result"
    }
   ],
   "source": [
    "df.isnull().sum() # No null values"
   ]
  },
  {
   "cell_type": "code",
   "execution_count": 435,
   "id": "ed1215f4",
   "metadata": {},
   "outputs": [
    {
     "data": {
      "text/plain": [
       "bookID                0\n",
       "title                 0\n",
       "authors               0\n",
       "average_rating        0\n",
       "isbn                  0\n",
       "isbn13                0\n",
       "language_code         0\n",
       "  num_pages           0\n",
       "ratings_count         0\n",
       "text_reviews_count    0\n",
       "publication_date      0\n",
       "publisher             0\n",
       "dtype: int64"
      ]
     },
     "execution_count": 435,
     "metadata": {},
     "output_type": "execute_result"
    }
   ],
   "source": [
    "df.isna().sum() # No missing values"
   ]
  },
  {
   "cell_type": "code",
   "execution_count": 436,
   "id": "f2d536f1",
   "metadata": {},
   "outputs": [
    {
     "data": {
      "text/plain": [
       "array([False])"
      ]
     },
     "execution_count": 436,
     "metadata": {},
     "output_type": "execute_result"
    }
   ],
   "source": [
    "df.duplicated().unique() # No duplicates"
   ]
  },
  {
   "cell_type": "code",
   "execution_count": 437,
   "id": "f2867d20",
   "metadata": {
    "scrolled": true
   },
   "outputs": [
    {
     "name": "stdout",
     "output_type": "stream",
     "text": [
      "bookID:11123 distinct values\n",
      "\n",
      "title:10348 distinct values\n",
      "\n",
      "authors:6639 distinct values\n",
      "\n",
      "average_rating:209 distinct values\n",
      "\n",
      "isbn:11123 distinct values\n",
      "\n",
      "isbn13:11123 distinct values\n",
      "\n",
      "language_code:27 distinct values\n",
      "\n",
      "  num_pages:997 distinct values\n",
      "\n",
      "ratings_count:5294 distinct values\n",
      "\n",
      "text_reviews_count:1822 distinct values\n",
      "\n",
      "publication_date:3679 distinct values\n",
      "\n",
      "publisher:2290 distinct values\n",
      "\n"
     ]
    }
   ],
   "source": [
    "# Check unique values \n",
    "\n",
    "for feature in df.columns:\n",
    "    unique = np.unique(df[feature])\n",
    "    print('{}:{} distinct values\\n' .format(feature,len(unique)))"
   ]
  },
  {
   "cell_type": "markdown",
   "id": "45db512e",
   "metadata": {},
   "source": [
    "- Fixed the error on the num_pages column"
   ]
  },
  {
   "cell_type": "code",
   "execution_count": 438,
   "id": "1c279b95",
   "metadata": {},
   "outputs": [],
   "source": [
    "# Rename num_pages column to remove leading whitespaces   \n",
    "df.rename(columns = {'  num_pages': 'num_pages'}, inplace=True) "
   ]
  },
  {
   "cell_type": "markdown",
   "id": "b00bd439",
   "metadata": {},
   "source": [
    "- Fixed the error on J.K. Rowling"
   ]
  },
  {
   "cell_type": "code",
   "execution_count": 439,
   "id": "7ae8ed6e",
   "metadata": {},
   "outputs": [],
   "source": [
    "# Replace J.K. Rowling/Mary GrandPré by J.K. Rowling\n",
    "df.replace(to_replace='J.K. Rowling/Mary GrandPré', value = 'J.K. Rowling', inplace=True)"
   ]
  },
  {
   "cell_type": "markdown",
   "id": "82e00197",
   "metadata": {},
   "source": [
    "- Conversion to the appropriate data type on publication_date\n",
    "- Replacing null values with the correct dates"
   ]
  },
  {
   "cell_type": "code",
   "execution_count": 440,
   "id": "c631ddcd",
   "metadata": {},
   "outputs": [
    {
     "data": {
      "text/html": [
       "<div>\n",
       "<style scoped>\n",
       "    .dataframe tbody tr th:only-of-type {\n",
       "        vertical-align: middle;\n",
       "    }\n",
       "\n",
       "    .dataframe tbody tr th {\n",
       "        vertical-align: top;\n",
       "    }\n",
       "\n",
       "    .dataframe thead th {\n",
       "        text-align: right;\n",
       "    }\n",
       "</style>\n",
       "<table border=\"1\" class=\"dataframe\">\n",
       "  <thead>\n",
       "    <tr style=\"text-align: right;\">\n",
       "      <th></th>\n",
       "      <th>bookID</th>\n",
       "      <th>title</th>\n",
       "      <th>authors</th>\n",
       "      <th>average_rating</th>\n",
       "      <th>isbn</th>\n",
       "      <th>isbn13</th>\n",
       "      <th>language_code</th>\n",
       "      <th>num_pages</th>\n",
       "      <th>ratings_count</th>\n",
       "      <th>text_reviews_count</th>\n",
       "      <th>publication_date</th>\n",
       "      <th>publisher</th>\n",
       "    </tr>\n",
       "  </thead>\n",
       "  <tbody>\n",
       "    <tr>\n",
       "      <th>8177</th>\n",
       "      <td>31373</td>\n",
       "      <td>In Pursuit of the Proper Sinner (Inspector Lyn...</td>\n",
       "      <td>Elizabeth  George</td>\n",
       "      <td>4.10</td>\n",
       "      <td>0553575104</td>\n",
       "      <td>9780553575101</td>\n",
       "      <td>eng</td>\n",
       "      <td>718</td>\n",
       "      <td>10608</td>\n",
       "      <td>295</td>\n",
       "      <td>NaT</td>\n",
       "      <td>Bantam Books</td>\n",
       "    </tr>\n",
       "    <tr>\n",
       "      <th>11094</th>\n",
       "      <td>45531</td>\n",
       "      <td>Montaillou  village occitan de 1294 à 1324</td>\n",
       "      <td>Emmanuel Le Roy Ladurie/Emmanuel Le Roy-Ladurie</td>\n",
       "      <td>3.96</td>\n",
       "      <td>2070323285</td>\n",
       "      <td>9782070323289</td>\n",
       "      <td>fre</td>\n",
       "      <td>640</td>\n",
       "      <td>15</td>\n",
       "      <td>2</td>\n",
       "      <td>NaT</td>\n",
       "      <td>Folio histoire</td>\n",
       "    </tr>\n",
       "  </tbody>\n",
       "</table>\n",
       "</div>"
      ],
      "text/plain": [
       "       bookID                                              title  \\\n",
       "8177    31373  In Pursuit of the Proper Sinner (Inspector Lyn...   \n",
       "11094   45531         Montaillou  village occitan de 1294 à 1324   \n",
       "\n",
       "                                               authors  average_rating  \\\n",
       "8177                                 Elizabeth  George            4.10   \n",
       "11094  Emmanuel Le Roy Ladurie/Emmanuel Le Roy-Ladurie            3.96   \n",
       "\n",
       "             isbn         isbn13 language_code  num_pages  ratings_count  \\\n",
       "8177   0553575104  9780553575101           eng        718          10608   \n",
       "11094  2070323285  9782070323289           fre        640             15   \n",
       "\n",
       "       text_reviews_count publication_date       publisher  \n",
       "8177                  295              NaT    Bantam Books  \n",
       "11094                   2              NaT  Folio histoire  "
      ]
     },
     "execution_count": 440,
     "metadata": {},
     "output_type": "execute_result"
    }
   ],
   "source": [
    "# Convert data type of publication_date from object into date type\n",
    "# Check if there is missing value after transformation\n",
    "df['publication_date'] = pd.to_datetime(df['publication_date'], format='%m/%d/%Y', errors='coerce')\n",
    "df[df['publication_date'].isnull()]"
   ]
  },
  {
   "cell_type": "code",
   "execution_count": 441,
   "id": "7018605b",
   "metadata": {},
   "outputs": [
    {
     "name": "stdout",
     "output_type": "stream",
     "text": [
      "8177   1999-01-01\n",
      "Name: publication_date, dtype: datetime64[ns]\n",
      "11094   1975-01-01\n",
      "Name: publication_date, dtype: datetime64[ns]\n"
     ]
    }
   ],
   "source": [
    "# There is only two missing values : we check on the internet, replace dates manualy\n",
    "# Doesn't matter if we don't have appropriate month and day : year is sufficient\n",
    "df.loc[df.bookID == 31373, 'publication_date'] = '1999-01-01'\n",
    "df.loc[df.bookID == 45531, 'publication_date'] = '1975-01-01'\n",
    "print(df.loc[df.bookID == 31373, 'publication_date'])\n",
    "print(df.loc[df.bookID == 45531, 'publication_date'])"
   ]
  },
  {
   "cell_type": "markdown",
   "id": "ab82769b",
   "metadata": {},
   "source": [
    "- Box plot :  verification of extreme values which can bias the average  outliers which are often input errors,  correction on the num_pages column"
   ]
  },
  {
   "cell_type": "code",
   "execution_count": 442,
   "id": "9fa9701b",
   "metadata": {},
   "outputs": [
    {
     "data": {
      "text/plain": [
       "<AxesSubplot:xlabel='average_rating'>"
      ]
     },
     "execution_count": 442,
     "metadata": {},
     "output_type": "execute_result"
    },
    {
     "data": {
      "image/png": "[encoded data removed]",
      "text/plain": [
       "<Figure size 432x288 with 1 Axes>"
      ]
     },
     "metadata": {
      "needs_background": "light"
     },
     "output_type": "display_data"
    }
   ],
   "source": [
    "# Check outliers in the column average_rating : no outliers\n",
    "sns.boxplot(x=df['average_rating'])"
   ]
  },
  {
   "cell_type": "code",
   "execution_count": 443,
   "id": "41f60f0a",
   "metadata": {},
   "outputs": [
    {
     "data": {
      "text/plain": [
       "<AxesSubplot:xlabel='num_pages'>"
      ]
     },
     "execution_count": 443,
     "metadata": {},
     "output_type": "execute_result"
    },
    {
     "data": {
      "image/png": "[encoded data removed]",
      "text/plain": [
       "<Figure size 432x288 with 1 Axes>"
      ]
     },
     "metadata": {
      "needs_background": "light"
     },
     "output_type": "display_data"
    }
   ],
   "source": [
    "# Check outliers in the column num_pages \n",
    "sns.boxplot(x=df['num_pages'], palette='colorblind') \n",
    "# Remove outliers "
   ]
  },
  {
   "cell_type": "code",
   "execution_count": 444,
   "id": "a072aa9d",
   "metadata": {},
   "outputs": [
    {
     "name": "stdout",
     "output_type": "stream",
     "text": [
      "0\n",
      "6576\n"
     ]
    }
   ],
   "source": [
    "print(df['num_pages'].min())\n",
    "print(df['num_pages'].max())"
   ]
  },
  {
   "cell_type": "code",
   "execution_count": 445,
   "id": "3a0c90f4",
   "metadata": {},
   "outputs": [
    {
     "data": {
      "text/plain": [
       "<AxesSubplot:xlabel='num_pages'>"
      ]
     },
     "execution_count": 445,
     "metadata": {},
     "output_type": "execute_result"
    },
    {
     "data": {
      "image/png": "[encoded data removed]",
      "text/plain": [
       "<Figure size 432x288 with 1 Axes>"
      ]
     },
     "metadata": {
      "needs_background": "light"
     },
     "output_type": "display_data"
    }
   ],
   "source": [
    "# Delete lignes where number of pages is less than 30 an more than 1500\n",
    "# We assume this choice even if number of pages can be under 30 or over 1500\n",
    "# <30 pages : we supose that most of them are Audio books, which only have the cover page or some decribtion\n",
    "vmin = 30\n",
    "vmax = 1500\n",
    "column = 'num_pages'\n",
    "df = df[df[column].between(vmin, vmax)]\n",
    "\n",
    "sns.boxplot(x=df['num_pages'], palette='colorblind')\n",
    "# Half of the books contain between 200 and 400 pages\n"
   ]
  },
  {
   "cell_type": "code",
   "execution_count": 446,
   "id": "1c43df1e",
   "metadata": {},
   "outputs": [
    {
     "data": {
      "text/plain": [
       "Text(0, 0.5, 'Author')"
      ]
     },
     "execution_count": 446,
     "metadata": {},
     "output_type": "execute_result"
    },
    {
     "data": {
      "image/png": "[encoded data removed]",
      "text/plain": [
       "<Figure size 360x288 with 1 Axes>"
      ]
     },
     "metadata": {
      "needs_background": "light"
     },
     "output_type": "display_data"
    },
    {
     "data": {
      "image/png": "[encoded data removed]",
      "text/plain": [
       "<Figure size 360x288 with 1 Axes>"
      ]
     },
     "metadata": {
      "needs_background": "light"
     },
     "output_type": "display_data"
    },
    {
     "data": {
      "image/png": "[encoded data removed]",
      "text/plain": [
       "<Figure size 360x288 with 1 Axes>"
      ]
     },
     "metadata": {
      "needs_background": "light"
     },
     "output_type": "display_data"
    },
    {
     "data": {
      "image/png": "[encoded data removed]",
      "text/plain": [
       "<Figure size 360x288 with 1 Axes>"
      ]
     },
     "metadata": {
      "needs_background": "light"
     },
     "output_type": "display_data"
    }
   ],
   "source": [
    "# Top 5 Books with most occurences \n",
    "\n",
    "plt.figure(figsize=(5,4))\n",
    "books = df['title'].value_counts()[:5]\n",
    "rating = df.average_rating[:5]\n",
    "sns.barplot(x = books, y = books.index, palette='husl')\n",
    "plt.title('Top 5 Occurring Books') \n",
    "plt.xlabel('Number of Occurances')\n",
    "plt.ylabel('Title of the book')\n",
    "\n",
    "# Top 5 rated books\n",
    "\n",
    "plt.figure(figsize=(5,4))\n",
    "rated = df.nlargest(5, ['ratings_count']).set_index('title')['ratings_count']\n",
    "sns.barplot(x=rated, y=rated.index, palette='Paired')\n",
    "plt.title('Top 5 Rated Books') \n",
    "plt.xlabel('Total rating count in million')\n",
    "plt.ylabel('Title of the book')\n",
    "\n",
    "# Top 5 Publisher \n",
    "\n",
    "plt.figure(figsize=(5,4))\n",
    "books = df['publisher'].value_counts()[:5]\n",
    "rating = df.average_rating[:5]\n",
    "sns.barplot(x = books, y = books.index, palette='hls')\n",
    "plt.title('Top 5 Publisher ') \n",
    "plt.xlabel('Number of Occurances')\n",
    "plt.ylabel('Name of the Publisher')\n",
    "\n",
    "# Top 5 authors who have written the most books\n",
    "\n",
    "plt.figure(figsize=(5,4))\n",
    "nb_books = df.groupby('authors')['title'].count().reset_index().sort_values('title', ascending=False).head(5).set_index('authors')\n",
    "sns.barplot(x=nb_books['title'],y= nb_books.index, palette='husl')\n",
    "plt.title(\"Top 5 authors who have written books\")\n",
    "plt.xlabel('Total number of books')\n",
    "plt.ylabel('Author')"
   ]
  },
  {
   "cell_type": "code",
   "execution_count": 447,
   "id": "2e4f7730",
   "metadata": {},
   "outputs": [
    {
     "name": "stdout",
     "output_type": "stream",
     "text": [
      "8177   1999-01-01\n",
      "Name: publication_date, dtype: datetime64[ns]\n",
      "11094   1975-01-01\n",
      "Name: publication_date, dtype: datetime64[ns]\n"
     ]
    }
   ],
   "source": [
    "print(df.loc[df.bookID == 31373, 'publication_date'])\n",
    "print(df.loc[df.bookID == 45531, 'publication_date'])"
   ]
  },
  {
   "cell_type": "markdown",
   "id": "bbbae346",
   "metadata": {},
   "source": [
    "# Part 2 : Engineering"
   ]
  },
  {
   "cell_type": "code",
   "execution_count": 448,
   "id": "a10b4f94",
   "metadata": {},
   "outputs": [
    {
     "data": {
      "text/html": [
       "        <script type=\"text/javascript\">\n",
       "        window.PlotlyConfig = {MathJaxConfig: 'local'};\n",
       "        if (window.MathJax && window.MathJax.Hub && window.MathJax.Hub.Config) {window.MathJax.Hub.Config({SVG: {font: \"STIX-Web\"}});}\n",
       "        if (typeof require !== 'undefined') {\n",
       "        require.undef(\"plotly\");\n",
       "        requirejs.config({\n",
       "            paths: {\n",
       "                'plotly': ['https://cdn.plot.ly/plotly-2.12.1.min']\n",
       "            }\n",
       "        });\n",
       "        require(['plotly'], function(Plotly) {\n",
       "            window._Plotly = Plotly;\n",
       "        });\n",
       "        }\n",
       "        </script>\n",
       "        "
      ]
     },
     "metadata": {},
     "output_type": "display_data"
    },
    {
     "data": {
      "text/html": [
       "        <script type=\"text/javascript\">\n",
       "        window.PlotlyConfig = {MathJaxConfig: 'local'};\n",
       "        if (window.MathJax && window.MathJax.Hub && window.MathJax.Hub.Config) {window.MathJax.Hub.Config({SVG: {font: \"STIX-Web\"}});}\n",
       "        if (typeof require !== 'undefined') {\n",
       "        require.undef(\"plotly\");\n",
       "        requirejs.config({\n",
       "            paths: {\n",
       "                'plotly': ['https://cdn.plot.ly/plotly-2.12.1.min']\n",
       "            }\n",
       "        });\n",
       "        require(['plotly'], function(Plotly) {\n",
       "            window._Plotly = Plotly;\n",
       "        });\n",
       "        }\n",
       "        </script>\n",
       "        "
      ]
     },
     "metadata": {},
     "output_type": "display_data"
    }
   ],
   "source": [
    "import plotly.express as px\n",
    "import plotly.graph_objects as go\n",
    "from plotly.offline import download_plotlyjs, init_notebook_mode, plot, iplot\n",
    "import cufflinks as cf\n",
    "init_notebook_mode(connected=True)\n",
    "cf.go_offline()"
   ]
  },
  {
   "cell_type": "markdown",
   "id": "164957e6",
   "metadata": {},
   "source": [
    "- Extraction of the year of publication in a new column "
   ]
  },
  {
   "cell_type": "code",
   "execution_count": 449,
   "id": "5e8fad87",
   "metadata": {},
   "outputs": [],
   "source": [
    "# We create a new column with year of publication only \n",
    "df['year'] = pd.DatetimeIndex(df['publication_date']).year "
   ]
  },
  {
   "cell_type": "markdown",
   "id": "07aa6e98",
   "metadata": {},
   "source": [
    "- Add a new feature which has the number of occurrences of each book"
   ]
  },
  {
   "cell_type": "code",
   "execution_count": 450,
   "id": "a1ac88b8",
   "metadata": {},
   "outputs": [],
   "source": [
    "# We use the function groupby\n",
    "df['num_occ'] = df.groupby('title')['title'].transform('count')"
   ]
  },
  {
   "cell_type": "markdown",
   "id": "ff77b3f5",
   "metadata": {},
   "source": [
    "- Encoding of the language_code column renamed to language, deletion of under-represented languages"
   ]
  },
  {
   "cell_type": "code",
   "execution_count": 451,
   "id": "e30ae3c1",
   "metadata": {},
   "outputs": [
    {
     "data": {
      "text/plain": [
       "array(['eng', 'en-US', 'fre', 'spa', 'en-GB', 'mul', 'grc', 'enm',\n",
       "       'en-CA', 'ger', 'jpn', 'ara', 'nl', 'zho', 'lat', 'por', 'srp',\n",
       "       'ita', 'rus', 'msa', 'glg', 'wel', 'swe', 'nor', 'tur', 'gla',\n",
       "       'ale'], dtype=object)"
      ]
     },
     "execution_count": 451,
     "metadata": {},
     "output_type": "execute_result"
    }
   ],
   "source": [
    "df['language_code'].unique()"
   ]
  },
  {
   "cell_type": "code",
   "execution_count": 452,
   "id": "5e9a4ab5",
   "metadata": {},
   "outputs": [],
   "source": [
    "# We change the name of the language_code column to language\n",
    "df.rename(columns={'language_code':'language'}, inplace=True)"
   ]
  },
  {
   "cell_type": "code",
   "execution_count": 453,
   "id": "7ed986e7",
   "metadata": {},
   "outputs": [],
   "source": [
    "# Harmonize language codes\n",
    "encoding = {'language': {'eng': 'English', 'en-US': 'English', 'en-GB': 'English', 'en-CA': 'English',\n",
    "                             'fre': 'French',\n",
    "                             'spa': 'Spanish',\n",
    "                             'mul': 'Not referenced in list of country codes',\n",
    "                             'grc': 'Greek',\n",
    "                             'enm': 'Not referenced in list of country codes',\n",
    "                             'ger': 'German',\n",
    "                             'jpn': 'Japanese',\n",
    "                             'ara': 'Not referenced in list of country codes',\n",
    "                             'nl': 'Dutch',\n",
    "                             'zho': 'Not referenced in list of country codes',\n",
    "                             'lat': 'Latvian',\n",
    "                             'por': 'Portugese',\n",
    "                             'srp': 'Not referenced in list of country codes',\n",
    "                             'ita': 'Italian',\n",
    "                             'rus': 'Russian',\n",
    "                             'msa': 'Not referenced in list of country codes',\n",
    "                             'glg': 'Not referenced in list of country codes',\n",
    "                             'wel': 'Not referenced in list of country codes',\n",
    "                             'swe': 'Swedish',\n",
    "                             'nor': 'Norwegian',\n",
    "                             'tur': 'Turkish',\n",
    "                             'gla': 'Not referenced in list of country codes',\n",
    "                             'ale': 'Not referenced in list of country codes'\n",
    "                             }}                   \n",
    "df.replace(encoding, inplace = True)"
   ]
  },
  {
   "cell_type": "code",
   "execution_count": 454,
   "id": "d0f6b1e4",
   "metadata": {},
   "outputs": [
    {
     "data": {
      "text/plain": [
       "English                                    10210\n",
       "Spanish                                      214\n",
       "French                                       143\n",
       "German                                        97\n",
       "Japanese                                      46\n",
       "Not referenced in list of country codes       43\n",
       "Greek                                         11\n",
       "Portugese                                     10\n",
       "Italian                                        5\n",
       "Latvian                                        3\n",
       "Russian                                        2\n",
       "Swedish                                        2\n",
       "Dutch                                          1\n",
       "Norwegian                                      1\n",
       "Turkish                                        1\n",
       "Name: language, dtype: int64"
      ]
     },
     "execution_count": 454,
     "metadata": {},
     "output_type": "execute_result"
    }
   ],
   "source": [
    "df['language'].value_counts()"
   ]
  },
  {
   "cell_type": "code",
   "execution_count": 455,
   "id": "56334402",
   "metadata": {},
   "outputs": [],
   "source": [
    "# We do not keep underrepresented languages because they do not allow reliable correlations or prediction\n",
    "df = df.loc[df['language'].isin(['English','Spanish','French','German'])]"
   ]
  },
  {
   "cell_type": "markdown",
   "id": "af88bc1c",
   "metadata": {},
   "source": [
    "- Pie plot of our new language column with book languages in percentage"
   ]
  },
  {
   "cell_type": "code",
   "execution_count": 456,
   "id": "356ea0b3",
   "metadata": {},
   "outputs": [
    {
     "data": {
      "text/plain": [
       "<matplotlib.patches.Circle at 0x1fd797a4e20>"
      ]
     },
     "execution_count": 456,
     "metadata": {},
     "output_type": "execute_result"
    },
    {
     "data": {
      "image/png": "[encoded data removed]",
      "text/plain": [
       "<Figure size 576x576 with 1 Axes>"
      ]
     },
     "metadata": {},
     "output_type": "display_data"
    }
   ],
   "source": [
    "# Graph of our new dataframe with book languages ​​in percentagecolors = ['#ff9999','#66b3ff','#99ff99','#ffcc99']\n",
    "explode = (0.05,0.05,0.05,0.05)\n",
    "df['language'].value_counts().plot(kind='pie', figsize=(8,8),colors =colors, explode= explode, title=\"Pourcentage language\", autopct='%1.1f%%')\n",
    "centre_circle = plt.Circle((0,0),0.50,fc='white')\n",
    "fig = plt.gcf()\n",
    "fig.gca().add_artist(centre_circle)"
   ]
  },
  {
   "cell_type": "markdown",
   "id": "b0f88760",
   "metadata": {},
   "source": [
    "- Scatter plot : text_review_count and year"
   ]
  },
  {
   "cell_type": "code",
   "execution_count": 457,
   "id": "a69427a1",
   "metadata": {},
   "outputs": [
    {
     "data": {
      "text/plain": [
       "<matplotlib.collections.PathCollection at 0x1fd7985e910>"
      ]
     },
     "execution_count": 457,
     "metadata": {},
     "output_type": "execute_result"
    },
    {
     "data": {
      "image/png": "[encoded data removed]",
      "text/plain": [
       "<Figure size 432x288 with 1 Axes>"
      ]
     },
     "metadata": {
      "needs_background": "light"
     },
     "output_type": "display_data"
    }
   ],
   "source": [
    "# We notice that it is rather recent books that have a lot of comments\n",
    "# Probably due to the rise of the internet\n",
    "plt.scatter(df[\"text_reviews_count\"],df[\"year\"])"
   ]
  },
  {
   "cell_type": "markdown",
   "id": "09ab989b",
   "metadata": {},
   "source": [
    "- Creation of categorical columns (text) : average_rating_cat, num_pages_cat, year_cat\n",
    "\n",
    "- Creation of categorical columns (integer): average_rating_cat_num, num_pages_cat_num, year_cat_num\n"
   ]
  },
  {
   "cell_type": "code",
   "execution_count": 458,
   "id": "20e4550b",
   "metadata": {},
   "outputs": [],
   "source": [
    "# We create an extra categorical column for average_rating : categorical and numerical\n",
    "slots = [\"Rather Disappointed\",\"Rather Interesting\"]\n",
    "bins = [-1,3.8,6]\n",
    "df['average_rating_cat'] = pd.cut(df['average_rating'], bins, labels=slots)"
   ]
  },
  {
   "cell_type": "code",
   "execution_count": 459,
   "id": "6de30432",
   "metadata": {},
   "outputs": [],
   "source": [
    "slots = [0,1]\n",
    "bins = [-1,3.8,6]\n",
    "df['average_rating_cat_num'] = pd.cut(df['average_rating'], bins, labels=slots)\n",
    "df['average_rating_cat_num'] = pd.to_numeric(df['average_rating_cat_num'])"
   ]
  },
  {
   "cell_type": "code",
   "execution_count": 460,
   "id": "61aba6b8",
   "metadata": {},
   "outputs": [],
   "source": [
    "# We create an extra categorical column for num_pages : categorical and numerical\n",
    "\n",
    "slots = [\"small\",\"large\"]\n",
    "bins = [29,500,1501]\n",
    "df['num_pages_cat'] = pd.cut(df['num_pages'], bins, labels=slots)"
   ]
  },
  {
   "cell_type": "code",
   "execution_count": 461,
   "id": "de7751f3",
   "metadata": {},
   "outputs": [],
   "source": [
    "slots = [1,2]\n",
    "bins = [29,500,1501]\n",
    "df['num_pages_cat_num'] = pd.cut(df['num_pages'], bins, labels=slots)\n",
    "df['num_pages_cat_num'] = pd.to_numeric(df['num_pages_cat_num'])"
   ]
  },
  {
   "cell_type": "code",
   "execution_count": 462,
   "id": "5ed8b303",
   "metadata": {},
   "outputs": [
    {
     "data": {
      "image/png": "[encoded data removed]",
      "text/plain": [
       "<Figure size 432x288 with 1 Axes>"
      ]
     },
     "metadata": {
      "needs_background": "light"
     },
     "output_type": "display_data"
    }
   ],
   "source": [
    "sns.histplot(x=\"average_rating_cat\", hue=\"num_pages_cat_num\", multiple=\"stack\", data =df)\n",
    "plt.show()\n",
    "\n",
    "# We notice that books with more pages are better rated\n",
    "# In order to better train our model, we will propose a feature encoding:\n",
    "# Create three new columns for categories 1,2 and 3 of the number of pages\n",
    "# We will make our predictions based on these two categories"
   ]
  },
  {
   "cell_type": "code",
   "execution_count": 463,
   "id": "7a9beef6",
   "metadata": {},
   "outputs": [],
   "source": [
    "# We create an extra categorical column for years : categorical and numerical\n",
    "\n",
    "slots = [\"Before 2000\",\"After 2000\"]\n",
    "bins = [1899,2000,2021]\n",
    "df['year_cat'] = pd.cut(df['year'], bins, labels=slots)"
   ]
  },
  {
   "cell_type": "code",
   "execution_count": 464,
   "id": "12c17266",
   "metadata": {},
   "outputs": [],
   "source": [
    "slots = [0,1]\n",
    "bins = [1899,2000,2021]\n",
    "df['year_cat_num'] = pd.cut(df['year'], bins, labels=slots)\n",
    "df['year_cat_num'] = pd.to_numeric(df['year_cat_num'])"
   ]
  },
  {
   "cell_type": "markdown",
   "id": "b8c5a2de",
   "metadata": {},
   "source": [
    "- Using sns and crosstab to make choice justification"
   ]
  },
  {
   "cell_type": "code",
   "execution_count": 465,
   "id": "313e6834",
   "metadata": {},
   "outputs": [
    {
     "data": {
      "image/png": "[encoded data removed]",
      "text/plain": [
       "<Figure size 432x288 with 1 Axes>"
      ]
     },
     "metadata": {
      "needs_background": "light"
     },
     "output_type": "display_data"
    }
   ],
   "source": [
    "sns.histplot(x=\"average_rating_cat\", hue=\"year_cat_num\", multiple=\"stack\", data =df)\n",
    "plt.show()\n",
    "# We will not make any further analysis on this category: no significant significant difference between before and after 2000."
   ]
  },
  {
   "cell_type": "code",
   "execution_count": 466,
   "id": "3022ee5c",
   "metadata": {},
   "outputs": [
    {
     "data": {
      "text/html": [
       "<div>\n",
       "<style scoped>\n",
       "    .dataframe tbody tr th:only-of-type {\n",
       "        vertical-align: middle;\n",
       "    }\n",
       "\n",
       "    .dataframe tbody tr th {\n",
       "        vertical-align: top;\n",
       "    }\n",
       "\n",
       "    .dataframe thead th {\n",
       "        text-align: right;\n",
       "    }\n",
       "</style>\n",
       "<table border=\"1\" class=\"dataframe\">\n",
       "  <thead>\n",
       "    <tr style=\"text-align: right;\">\n",
       "      <th>language</th>\n",
       "      <th>English</th>\n",
       "      <th>French</th>\n",
       "      <th>German</th>\n",
       "      <th>Spanish</th>\n",
       "    </tr>\n",
       "    <tr>\n",
       "      <th>average_rating_cat</th>\n",
       "      <th></th>\n",
       "      <th></th>\n",
       "      <th></th>\n",
       "      <th></th>\n",
       "    </tr>\n",
       "  </thead>\n",
       "  <tbody>\n",
       "    <tr>\n",
       "      <th>Rather Disappointed</th>\n",
       "      <td>0.957824</td>\n",
       "      <td>0.012234</td>\n",
       "      <td>0.009981</td>\n",
       "      <td>0.019961</td>\n",
       "    </tr>\n",
       "    <tr>\n",
       "      <th>Rather Interesting</th>\n",
       "      <td>0.957264</td>\n",
       "      <td>0.013893</td>\n",
       "      <td>0.008732</td>\n",
       "      <td>0.020111</td>\n",
       "    </tr>\n",
       "  </tbody>\n",
       "</table>\n",
       "</div>"
      ],
      "text/plain": [
       "language              English    French    German   Spanish\n",
       "average_rating_cat                                         \n",
       "Rather Disappointed  0.957824  0.012234  0.009981  0.019961\n",
       "Rather Interesting   0.957264  0.013893  0.008732  0.020111"
      ]
     },
     "execution_count": 466,
     "metadata": {},
     "output_type": "execute_result"
    }
   ],
   "source": [
    "# Allows us to realize how overrepresented books in English are\n",
    "pd.crosstab(df['average_rating_cat'],df['language'], normalize='index')\n",
    "# We do not want to make a prediction based on the language"
   ]
  },
  {
   "cell_type": "markdown",
   "id": "323e7298",
   "metadata": {},
   "source": [
    "- Correlation : we choose the one that seems to us the most striking : between average_rating and num_pages_cat_num"
   ]
  },
  {
   "cell_type": "markdown",
   "id": "8a820e97",
   "metadata": {},
   "source": [
    "There is a slight correlation between average_rating_cat_num and num_pages_cat_num (0.124925)\n",
    "Our objective in this part is to show that despite the weakness of our correlation we will succeed in making predictions.\n",
    "We will have to admit that the predictions will not be excellent but we will see that depending on the preductive models we will be able to improve the accuracy and the precision of our predictions "
   ]
  },
  {
   "cell_type": "code",
   "execution_count": 467,
   "id": "c1b0e1ce",
   "metadata": {},
   "outputs": [
    {
     "data": {
      "application/vnd.plotly.v1+json": {
       "config": {
        "plotlyServerURL": "https://plot.ly"
       },
       "data": [
        {
         "coloraxis": "coloraxis",
         "hovertemplate": "x: %{x}<br>y: %{y}<br>color: %{z}<extra></extra>",
         "name": "0",
         "type": "heatmap",
         "x": [
          "bookID",
          "average_rating",
          "isbn13",
          "num_pages",
          "ratings_count",
          "text_reviews_count",
          "year",
          "num_occ",
          "average_rating_cat_num",
          "num_pages_cat_num",
          "year_cat_num"
         ],
         "xaxis": "x",
         "y": [
          "bookID",
          "average_rating",
          "isbn13",
          "num_pages",
          "ratings_count",
          "text_reviews_count",
          "year",
          "num_occ",
          "average_rating_cat_num",
          "num_pages_cat_num",
          "year_cat_num"
         ],
         "yaxis": "y",
         "z": [
          [
           1,
           -0.03679624136382483,
           -0.004948805809078022,
           -0.02655980982405335,
           -0.07835077512265891,
           -0.08316114453850165,
           0.027789597851694464,
           -0.11224239738311652,
           -0.03376205493846329,
           -0.029338387711748157,
           0.01684419433701577
          ],
          [
           -0.03679624136382483,
           1,
           0.00018891671976809605,
           0.15604041059742849,
           0.0415800613762855,
           0.03771430304259913,
           -0.035647402169708485,
           0.014731704670519798,
           0.6743198695982313,
           0.1502620883155866,
           -0.025266217460968018
          ],
          [
           -0.004948805809078022,
           0.00018891671976809605,
           1,
           0.006465028007519152,
           0.007370132311238225,
           0.009457110640537517,
           -0.001038312142358789,
           0.012758227525259385,
           0.004249960451870187,
           -0.0007981866723917652,
           0.0025495039241995717
          ],
          [
           -0.02655980982405335,
           0.15604041059742849,
           0.006465028007519152,
           1,
           0.03518983705610625,
           0.038214399660369214,
           -0.0009755388274242448,
           0.11364034455819545,
           0.12951047215274303,
           0.7706166381942953,
           -0.0036924334754426884
          ],
          [
           -0.07835077512265891,
           0.0415800613762855,
           0.007370132311238225,
           0.03518983705610625,
           1,
           0.8658628241466408,
           0.046435844123590364,
           0.09379333629238877,
           0.03623057983494458,
           0.022550768425255996,
           0.04983620524732987
          ],
          [
           -0.08316114453850165,
           0.03771430304259913,
           0.009457110640537517,
           0.038214399660369214,
           0.8658628241466408,
           1,
           0.06971296257682705,
           0.06937899757628134,
           0.037915196850572326,
           0.020226046231760837,
           0.07072591722425918
          ],
          [
           0.027789597851694464,
           -0.035647402169708485,
           -0.001038312142358789,
           -0.0009755388274242448,
           0.046435844123590364,
           0.06971296257682705,
           1,
           -0.011504857162050254,
           -0.03625052281584688,
           -0.022646550117773365,
           0.7101104052934613
          ],
          [
           -0.11224239738311652,
           0.014731704670519798,
           0.012758227525259385,
           0.11364034455819545,
           0.09379333629238877,
           0.06937899757628134,
           -0.011504857162050254,
           1,
           0.03420446179525139,
           0.10628021022703285,
           0.010523215680604693
          ],
          [
           -0.03376205493846329,
           0.6743198695982313,
           0.004249960451870187,
           0.12951047215274303,
           0.03623057983494458,
           0.037915196850572326,
           -0.03625052281584688,
           0.03420446179525139,
           1,
           0.12492496279511353,
           -0.02770100935476657
          ],
          [
           -0.029338387711748157,
           0.1502620883155866,
           -0.0007981866723917652,
           0.7706166381942953,
           0.022550768425255996,
           0.020226046231760837,
           -0.022646550117773365,
           0.10628021022703285,
           0.12492496279511353,
           1,
           -0.02483621022345537
          ],
          [
           0.01684419433701577,
           -0.025266217460968018,
           0.0025495039241995717,
           -0.0036924334754426884,
           0.04983620524732987,
           0.07072591722425918,
           0.7101104052934613,
           0.010523215680604693,
           -0.02770100935476657,
           -0.02483621022345537,
           1
          ]
         ]
        }
       ],
       "layout": {
        "coloraxis": {
         "colorscale": [
          [
           0,
           "#0d0887"
          ],
          [
           0.1111111111111111,
           "#46039f"
          ],
          [
           0.2222222222222222,
           "#7201a8"
          ],
          [
           0.3333333333333333,
           "#9c179e"
          ],
          [
           0.4444444444444444,
           "#bd3786"
          ],
          [
           0.5555555555555556,
           "#d8576b"
          ],
          [
           0.6666666666666666,
           "#ed7953"
          ],
          [
           0.7777777777777778,
           "#fb9f3a"
          ],
          [
           0.8888888888888888,
           "#fdca26"
          ],
          [
           1,
           "#f0f921"
          ]
         ]
        },
        "margin": {
         "t": 60
        },
        "template": {
         "data": {
          "bar": [
           {
            "error_x": {
             "color": "#2a3f5f"
            },
            "error_y": {
             "color": "#2a3f5f"
            },
            "marker": {
             "line": {
              "color": "#E5ECF6",
              "width": 0.5
             },
             "pattern": {
              "fillmode": "overlay",
              "size": 10,
              "solidity": 0.2
             }
            },
            "type": "bar"
           }
          ],
          "barpolar": [
           {
            "marker": {
             "line": {
              "color": "#E5ECF6",
              "width": 0.5
             },
             "pattern": {
              "fillmode": "overlay",
              "size": 10,
              "solidity": 0.2
             }
            },
            "type": "barpolar"
           }
          ],
          "carpet": [
           {
            "aaxis": {
             "endlinecolor": "#2a3f5f",
             "gridcolor": "white",
             "linecolor": "white",
             "minorgridcolor": "white",
             "startlinecolor": "#2a3f5f"
            },
            "baxis": {
             "endlinecolor": "#2a3f5f",
             "gridcolor": "white",
             "linecolor": "white",
             "minorgridcolor": "white",
             "startlinecolor": "#2a3f5f"
            },
            "type": "carpet"
           }
          ],
          "choropleth": [
           {
            "colorbar": {
             "outlinewidth": 0,
             "ticks": ""
            },
            "type": "choropleth"
           }
          ],
          "contour": [
           {
            "colorbar": {
             "outlinewidth": 0,
             "ticks": ""
            },
            "colorscale": [
             [
              0,
              "#0d0887"
             ],
             [
              0.1111111111111111,
              "#46039f"
             ],
             [
              0.2222222222222222,
              "#7201a8"
             ],
             [
              0.3333333333333333,
              "#9c179e"
             ],
             [
              0.4444444444444444,
              "#bd3786"
             ],
             [
              0.5555555555555556,
              "#d8576b"
             ],
             [
              0.6666666666666666,
              "#ed7953"
             ],
             [
              0.7777777777777778,
              "#fb9f3a"
             ],
             [
              0.8888888888888888,
              "#fdca26"
             ],
             [
              1,
              "#f0f921"
             ]
            ],
            "type": "contour"
           }
          ],
          "contourcarpet": [
           {
            "colorbar": {
             "outlinewidth": 0,
             "ticks": ""
            },
            "type": "contourcarpet"
           }
          ],
          "heatmap": [
           {
            "colorbar": {
             "outlinewidth": 0,
             "ticks": ""
            },
            "colorscale": [
             [
              0,
              "#0d0887"
             ],
             [
              0.1111111111111111,
              "#46039f"
             ],
             [
              0.2222222222222222,
              "#7201a8"
             ],
             [
              0.3333333333333333,
              "#9c179e"
             ],
             [
              0.4444444444444444,
              "#bd3786"
             ],
             [
              0.5555555555555556,
              "#d8576b"
             ],
             [
              0.6666666666666666,
              "#ed7953"
             ],
             [
              0.7777777777777778,
              "#fb9f3a"
             ],
             [
              0.8888888888888888,
              "#fdca26"
             ],
             [
              1,
              "#f0f921"
             ]
            ],
            "type": "heatmap"
           }
          ],
          "heatmapgl": [
           {
            "colorbar": {
             "outlinewidth": 0,
             "ticks": ""
            },
            "colorscale": [
             [
              0,
              "#0d0887"
             ],
             [
              0.1111111111111111,
              "#46039f"
             ],
             [
              0.2222222222222222,
              "#7201a8"
             ],
             [
              0.3333333333333333,
              "#9c179e"
             ],
             [
              0.4444444444444444,
              "#bd3786"
             ],
             [
              0.5555555555555556,
              "#d8576b"
             ],
             [
              0.6666666666666666,
              "#ed7953"
             ],
             [
              0.7777777777777778,
              "#fb9f3a"
             ],
             [
              0.8888888888888888,
              "#fdca26"
             ],
             [
              1,
              "#f0f921"
             ]
            ],
            "type": "heatmapgl"
           }
          ],
          "histogram": [
           {
            "marker": {
             "pattern": {
              "fillmode": "overlay",
              "size": 10,
              "solidity": 0.2
             }
            },
            "type": "histogram"
           }
          ],
          "histogram2d": [
           {
            "colorbar": {
             "outlinewidth": 0,
             "ticks": ""
            },
            "colorscale": [
             [
              0,
              "#0d0887"
             ],
             [
              0.1111111111111111,
              "#46039f"
             ],
             [
              0.2222222222222222,
              "#7201a8"
             ],
             [
              0.3333333333333333,
              "#9c179e"
             ],
             [
              0.4444444444444444,
              "#bd3786"
             ],
             [
              0.5555555555555556,
              "#d8576b"
             ],
             [
              0.6666666666666666,
              "#ed7953"
             ],
             [
              0.7777777777777778,
              "#fb9f3a"
             ],
             [
              0.8888888888888888,
              "#fdca26"
             ],
             [
              1,
              "#f0f921"
             ]
            ],
            "type": "histogram2d"
           }
          ],
          "histogram2dcontour": [
           {
            "colorbar": {
             "outlinewidth": 0,
             "ticks": ""
            },
            "colorscale": [
             [
              0,
              "#0d0887"
             ],
             [
              0.1111111111111111,
              "#46039f"
             ],
             [
              0.2222222222222222,
              "#7201a8"
             ],
             [
              0.3333333333333333,
              "#9c179e"
             ],
             [
              0.4444444444444444,
              "#bd3786"
             ],
             [
              0.5555555555555556,
              "#d8576b"
             ],
             [
              0.6666666666666666,
              "#ed7953"
             ],
             [
              0.7777777777777778,
              "#fb9f3a"
             ],
             [
              0.8888888888888888,
              "#fdca26"
             ],
             [
              1,
              "#f0f921"
             ]
            ],
            "type": "histogram2dcontour"
           }
          ],
          "mesh3d": [
           {
            "colorbar": {
             "outlinewidth": 0,
             "ticks": ""
            },
            "type": "mesh3d"
           }
          ],
          "parcoords": [
           {
            "line": {
             "colorbar": {
              "outlinewidth": 0,
              "ticks": ""
             }
            },
            "type": "parcoords"
           }
          ],
          "pie": [
           {
            "automargin": true,
            "type": "pie"
           }
          ],
          "scatter": [
           {
            "fillpattern": {
             "fillmode": "overlay",
             "size": 10,
             "solidity": 0.2
            },
            "type": "scatter"
           }
          ],
          "scatter3d": [
           {
            "line": {
             "colorbar": {
              "outlinewidth": 0,
              "ticks": ""
             }
            },
            "marker": {
             "colorbar": {
              "outlinewidth": 0,
              "ticks": ""
             }
            },
            "type": "scatter3d"
           }
          ],
          "scattercarpet": [
           {
            "marker": {
             "colorbar": {
              "outlinewidth": 0,
              "ticks": ""
             }
            },
            "type": "scattercarpet"
           }
          ],
          "scattergeo": [
           {
            "marker": {
             "colorbar": {
              "outlinewidth": 0,
              "ticks": ""
             }
            },
            "type": "scattergeo"
           }
          ],
          "scattergl": [
           {
            "marker": {
             "colorbar": {
              "outlinewidth": 0,
              "ticks": ""
             }
            },
            "type": "scattergl"
           }
          ],
          "scattermapbox": [
           {
            "marker": {
             "colorbar": {
              "outlinewidth": 0,
              "ticks": ""
             }
            },
            "type": "scattermapbox"
           }
          ],
          "scatterpolar": [
           {
            "marker": {
             "colorbar": {
              "outlinewidth": 0,
              "ticks": ""
             }
            },
            "type": "scatterpolar"
           }
          ],
          "scatterpolargl": [
           {
            "marker": {
             "colorbar": {
              "outlinewidth": 0,
              "ticks": ""
             }
            },
            "type": "scatterpolargl"
           }
          ],
          "scatterternary": [
           {
            "marker": {
             "colorbar": {
              "outlinewidth": 0,
              "ticks": ""
             }
            },
            "type": "scatterternary"
           }
          ],
          "surface": [
           {
            "colorbar": {
             "outlinewidth": 0,
             "ticks": ""
            },
            "colorscale": [
             [
              0,
              "#0d0887"
             ],
             [
              0.1111111111111111,
              "#46039f"
             ],
             [
              0.2222222222222222,
              "#7201a8"
             ],
             [
              0.3333333333333333,
              "#9c179e"
             ],
             [
              0.4444444444444444,
              "#bd3786"
             ],
             [
              0.5555555555555556,
              "#d8576b"
             ],
             [
              0.6666666666666666,
              "#ed7953"
             ],
             [
              0.7777777777777778,
              "#fb9f3a"
             ],
             [
              0.8888888888888888,
              "#fdca26"
             ],
             [
              1,
              "#f0f921"
             ]
            ],
            "type": "surface"
           }
          ],
          "table": [
           {
            "cells": {
             "fill": {
              "color": "#EBF0F8"
             },
             "line": {
              "color": "white"
             }
            },
            "header": {
             "fill": {
              "color": "#C8D4E3"
             },
             "line": {
              "color": "white"
             }
            },
            "type": "table"
           }
          ]
         },
         "layout": {
          "annotationdefaults": {
           "arrowcolor": "#2a3f5f",
           "arrowhead": 0,
           "arrowwidth": 1
          },
          "autotypenumbers": "strict",
          "coloraxis": {
           "colorbar": {
            "outlinewidth": 0,
            "ticks": ""
           }
          },
          "colorscale": {
           "diverging": [
            [
             0,
             "#8e0152"
            ],
            [
             0.1,
             "#c51b7d"
            ],
            [
             0.2,
             "#de77ae"
            ],
            [
             0.3,
             "#f1b6da"
            ],
            [
             0.4,
             "#fde0ef"
            ],
            [
             0.5,
             "#f7f7f7"
            ],
            [
             0.6,
             "#e6f5d0"
            ],
            [
             0.7,
             "#b8e186"
            ],
            [
             0.8,
             "#7fbc41"
            ],
            [
             0.9,
             "#4d9221"
            ],
            [
             1,
             "#276419"
            ]
           ],
           "sequential": [
            [
             0,
             "#0d0887"
            ],
            [
             0.1111111111111111,
             "#46039f"
            ],
            [
             0.2222222222222222,
             "#7201a8"
            ],
            [
             0.3333333333333333,
             "#9c179e"
            ],
            [
             0.4444444444444444,
             "#bd3786"
            ],
            [
             0.5555555555555556,
             "#d8576b"
            ],
            [
             0.6666666666666666,
             "#ed7953"
            ],
            [
             0.7777777777777778,
             "#fb9f3a"
            ],
            [
             0.8888888888888888,
             "#fdca26"
            ],
            [
             1,
             "#f0f921"
            ]
           ],
           "sequentialminus": [
            [
             0,
             "#0d0887"
            ],
            [
             0.1111111111111111,
             "#46039f"
            ],
            [
             0.2222222222222222,
             "#7201a8"
            ],
            [
             0.3333333333333333,
             "#9c179e"
            ],
            [
             0.4444444444444444,
             "#bd3786"
            ],
            [
             0.5555555555555556,
             "#d8576b"
            ],
            [
             0.6666666666666666,
             "#ed7953"
            ],
            [
             0.7777777777777778,
             "#fb9f3a"
            ],
            [
             0.8888888888888888,
             "#fdca26"
            ],
            [
             1,
             "#f0f921"
            ]
           ]
          },
          "colorway": [
           "#636efa",
           "#EF553B",
           "#00cc96",
           "#ab63fa",
           "#FFA15A",
           "#19d3f3",
           "#FF6692",
           "#B6E880",
           "#FF97FF",
           "#FECB52"
          ],
          "font": {
           "color": "#2a3f5f"
          },
          "geo": {
           "bgcolor": "white",
           "lakecolor": "white",
           "landcolor": "#E5ECF6",
           "showlakes": true,
           "showland": true,
           "subunitcolor": "white"
          },
          "hoverlabel": {
           "align": "left"
          },
          "hovermode": "closest",
          "mapbox": {
           "style": "light"
          },
          "paper_bgcolor": "white",
          "plot_bgcolor": "#E5ECF6",
          "polar": {
           "angularaxis": {
            "gridcolor": "white",
            "linecolor": "white",
            "ticks": ""
           },
           "bgcolor": "#E5ECF6",
           "radialaxis": {
            "gridcolor": "white",
            "linecolor": "white",
            "ticks": ""
           }
          },
          "scene": {
           "xaxis": {
            "backgroundcolor": "#E5ECF6",
            "gridcolor": "white",
            "gridwidth": 2,
            "linecolor": "white",
            "showbackground": true,
            "ticks": "",
            "zerolinecolor": "white"
           },
           "yaxis": {
            "backgroundcolor": "#E5ECF6",
            "gridcolor": "white",
            "gridwidth": 2,
            "linecolor": "white",
            "showbackground": true,
            "ticks": "",
            "zerolinecolor": "white"
           },
           "zaxis": {
            "backgroundcolor": "#E5ECF6",
            "gridcolor": "white",
            "gridwidth": 2,
            "linecolor": "white",
            "showbackground": true,
            "ticks": "",
            "zerolinecolor": "white"
           }
          },
          "shapedefaults": {
           "line": {
            "color": "#2a3f5f"
           }
          },
          "ternary": {
           "aaxis": {
            "gridcolor": "white",
            "linecolor": "white",
            "ticks": ""
           },
           "baxis": {
            "gridcolor": "white",
            "linecolor": "white",
            "ticks": ""
           },
           "bgcolor": "#E5ECF6",
           "caxis": {
            "gridcolor": "white",
            "linecolor": "white",
            "ticks": ""
           }
          },
          "title": {
           "x": 0.05
          },
          "xaxis": {
           "automargin": true,
           "gridcolor": "white",
           "linecolor": "white",
           "ticks": "",
           "title": {
            "standoff": 15
           },
           "zerolinecolor": "white",
           "zerolinewidth": 2
          },
          "yaxis": {
           "automargin": true,
           "gridcolor": "white",
           "linecolor": "white",
           "ticks": "",
           "title": {
            "standoff": 15
           },
           "zerolinecolor": "white",
           "zerolinewidth": 2
          }
         }
        },
        "xaxis": {
         "anchor": "y",
         "constrain": "domain",
         "domain": [
          0,
          1
         ],
         "scaleanchor": "y"
        },
        "yaxis": {
         "anchor": "x",
         "autorange": "reversed",
         "constrain": "domain",
         "domain": [
          0,
          1
         ]
        }
       }
      },
      "text/html": [
       "<div>                            <div id=\"e5aa995f-946e-4818-b7a0-46d07a3f6858\" class=\"plotly-graph-div\" style=\"height:525px; width:100%;\"></div>            <script type=\"text/javascript\">                require([\"plotly\"], function(Plotly) {                    window.PLOTLYENV=window.PLOTLYENV || {};                                    if (document.getElementById(\"e5aa995f-946e-4818-b7a0-46d07a3f6858\")) {                    Plotly.newPlot(                        \"e5aa995f-946e-4818-b7a0-46d07a3f6858\",                        [{\"coloraxis\":\"coloraxis\",\"name\":\"0\",\"x\":[\"bookID\",\"average_rating\",\"isbn13\",\"num_pages\",\"ratings_count\",\"text_reviews_count\",\"year\",\"num_occ\",\"average_rating_cat_num\",\"num_pages_cat_num\",\"year_cat_num\"],\"y\":[\"bookID\",\"average_rating\",\"isbn13\",\"num_pages\",\"ratings_count\",\"text_reviews_count\",\"year\",\"num_occ\",\"average_rating_cat_num\",\"num_pages_cat_num\",\"year_cat_num\"],\"z\":[[1.0,-0.03679624136382483,-0.004948805809078022,-0.02655980982405335,-0.07835077512265891,-0.08316114453850165,0.027789597851694464,-0.11224239738311652,-0.03376205493846329,-0.029338387711748157,0.01684419433701577],[-0.03679624136382483,1.0,0.00018891671976809605,0.15604041059742849,0.0415800613762855,0.03771430304259913,-0.035647402169708485,0.014731704670519798,0.6743198695982313,0.1502620883155866,-0.025266217460968018],[-0.004948805809078022,0.00018891671976809605,1.0,0.006465028007519152,0.007370132311238225,0.009457110640537517,-0.001038312142358789,0.012758227525259385,0.004249960451870187,-0.0007981866723917652,0.0025495039241995717],[-0.02655980982405335,0.15604041059742849,0.006465028007519152,1.0,0.03518983705610625,0.038214399660369214,-0.0009755388274242448,0.11364034455819545,0.12951047215274303,0.7706166381942953,-0.0036924334754426884],[-0.07835077512265891,0.0415800613762855,0.007370132311238225,0.03518983705610625,1.0,0.8658628241466408,0.046435844123590364,0.09379333629238877,0.03623057983494458,0.022550768425255996,0.04983620524732987],[-0.08316114453850165,0.03771430304259913,0.009457110640537517,0.038214399660369214,0.8658628241466408,1.0,0.06971296257682705,0.06937899757628134,0.037915196850572326,0.020226046231760837,0.07072591722425918],[0.027789597851694464,-0.035647402169708485,-0.001038312142358789,-0.0009755388274242448,0.046435844123590364,0.06971296257682705,1.0,-0.011504857162050254,-0.03625052281584688,-0.022646550117773365,0.7101104052934613],[-0.11224239738311652,0.014731704670519798,0.012758227525259385,0.11364034455819545,0.09379333629238877,0.06937899757628134,-0.011504857162050254,1.0,0.03420446179525139,0.10628021022703285,0.010523215680604693],[-0.03376205493846329,0.6743198695982313,0.004249960451870187,0.12951047215274303,0.03623057983494458,0.037915196850572326,-0.03625052281584688,0.03420446179525139,1.0,0.12492496279511353,-0.02770100935476657],[-0.029338387711748157,0.1502620883155866,-0.0007981866723917652,0.7706166381942953,0.022550768425255996,0.020226046231760837,-0.022646550117773365,0.10628021022703285,0.12492496279511353,1.0,-0.02483621022345537],[0.01684419433701577,-0.025266217460968018,0.0025495039241995717,-0.0036924334754426884,0.04983620524732987,0.07072591722425918,0.7101104052934613,0.010523215680604693,-0.02770100935476657,-0.02483621022345537,1.0]],\"type\":\"heatmap\",\"xaxis\":\"x\",\"yaxis\":\"y\",\"hovertemplate\":\"x: %{x}<br>y: %{y}<br>color: %{z}<extra></extra>\"}],                        {\"template\":{\"data\":{\"histogram2dcontour\":[{\"type\":\"histogram2dcontour\",\"colorbar\":{\"outlinewidth\":0,\"ticks\":\"\"},\"colorscale\":[[0.0,\"#0d0887\"],[0.1111111111111111,\"#46039f\"],[0.2222222222222222,\"#7201a8\"],[0.3333333333333333,\"#9c179e\"],[0.4444444444444444,\"#bd3786\"],[0.5555555555555556,\"#d8576b\"],[0.6666666666666666,\"#ed7953\"],[0.7777777777777778,\"#fb9f3a\"],[0.8888888888888888,\"#fdca26\"],[1.0,\"#f0f921\"]]}],\"choropleth\":[{\"type\":\"choropleth\",\"colorbar\":{\"outlinewidth\":0,\"ticks\":\"\"}}],\"histogram2d\":[{\"type\":\"histogram2d\",\"colorbar\":{\"outlinewidth\":0,\"ticks\":\"\"},\"colorscale\":[[0.0,\"#0d0887\"],[0.1111111111111111,\"#46039f\"],[0.2222222222222222,\"#7201a8\"],[0.3333333333333333,\"#9c179e\"],[0.4444444444444444,\"#bd3786\"],[0.5555555555555556,\"#d8576b\"],[0.6666666666666666,\"#ed7953\"],[0.7777777777777778,\"#fb9f3a\"],[0.8888888888888888,\"#fdca26\"],[1.0,\"#f0f921\"]]}],\"heatmap\":[{\"type\":\"heatmap\",\"colorbar\":{\"outlinewidth\":0,\"ticks\":\"\"},\"colorscale\":[[0.0,\"#0d0887\"],[0.1111111111111111,\"#46039f\"],[0.2222222222222222,\"#7201a8\"],[0.3333333333333333,\"#9c179e\"],[0.4444444444444444,\"#bd3786\"],[0.5555555555555556,\"#d8576b\"],[0.6666666666666666,\"#ed7953\"],[0.7777777777777778,\"#fb9f3a\"],[0.8888888888888888,\"#fdca26\"],[1.0,\"#f0f921\"]]}],\"heatmapgl\":[{\"type\":\"heatmapgl\",\"colorbar\":{\"outlinewidth\":0,\"ticks\":\"\"},\"colorscale\":[[0.0,\"#0d0887\"],[0.1111111111111111,\"#46039f\"],[0.2222222222222222,\"#7201a8\"],[0.3333333333333333,\"#9c179e\"],[0.4444444444444444,\"#bd3786\"],[0.5555555555555556,\"#d8576b\"],[0.6666666666666666,\"#ed7953\"],[0.7777777777777778,\"#fb9f3a\"],[0.8888888888888888,\"#fdca26\"],[1.0,\"#f0f921\"]]}],\"contourcarpet\":[{\"type\":\"contourcarpet\",\"colorbar\":{\"outlinewidth\":0,\"ticks\":\"\"}}],\"contour\":[{\"type\":\"contour\",\"colorbar\":{\"outlinewidth\":0,\"ticks\":\"\"},\"colorscale\":[[0.0,\"#0d0887\"],[0.1111111111111111,\"#46039f\"],[0.2222222222222222,\"#7201a8\"],[0.3333333333333333,\"#9c179e\"],[0.4444444444444444,\"#bd3786\"],[0.5555555555555556,\"#d8576b\"],[0.6666666666666666,\"#ed7953\"],[0.7777777777777778,\"#fb9f3a\"],[0.8888888888888888,\"#fdca26\"],[1.0,\"#f0f921\"]]}],\"surface\":[{\"type\":\"surface\",\"colorbar\":{\"outlinewidth\":0,\"ticks\":\"\"},\"colorscale\":[[0.0,\"#0d0887\"],[0.1111111111111111,\"#46039f\"],[0.2222222222222222,\"#7201a8\"],[0.3333333333333333,\"#9c179e\"],[0.4444444444444444,\"#bd3786\"],[0.5555555555555556,\"#d8576b\"],[0.6666666666666666,\"#ed7953\"],[0.7777777777777778,\"#fb9f3a\"],[0.8888888888888888,\"#fdca26\"],[1.0,\"#f0f921\"]]}],\"mesh3d\":[{\"type\":\"mesh3d\",\"colorbar\":{\"outlinewidth\":0,\"ticks\":\"\"}}],\"scatter\":[{\"fillpattern\":{\"fillmode\":\"overlay\",\"size\":10,\"solidity\":0.2},\"type\":\"scatter\"}],\"parcoords\":[{\"type\":\"parcoords\",\"line\":{\"colorbar\":{\"outlinewidth\":0,\"ticks\":\"\"}}}],\"scatterpolargl\":[{\"type\":\"scatterpolargl\",\"marker\":{\"colorbar\":{\"outlinewidth\":0,\"ticks\":\"\"}}}],\"bar\":[{\"error_x\":{\"color\":\"#2a3f5f\"},\"error_y\":{\"color\":\"#2a3f5f\"},\"marker\":{\"line\":{\"color\":\"#E5ECF6\",\"width\":0.5},\"pattern\":{\"fillmode\":\"overlay\",\"size\":10,\"solidity\":0.2}},\"type\":\"bar\"}],\"scattergeo\":[{\"type\":\"scattergeo\",\"marker\":{\"colorbar\":{\"outlinewidth\":0,\"ticks\":\"\"}}}],\"scatterpolar\":[{\"type\":\"scatterpolar\",\"marker\":{\"colorbar\":{\"outlinewidth\":0,\"ticks\":\"\"}}}],\"histogram\":[{\"marker\":{\"pattern\":{\"fillmode\":\"overlay\",\"size\":10,\"solidity\":0.2}},\"type\":\"histogram\"}],\"scattergl\":[{\"type\":\"scattergl\",\"marker\":{\"colorbar\":{\"outlinewidth\":0,\"ticks\":\"\"}}}],\"scatter3d\":[{\"type\":\"scatter3d\",\"line\":{\"colorbar\":{\"outlinewidth\":0,\"ticks\":\"\"}},\"marker\":{\"colorbar\":{\"outlinewidth\":0,\"ticks\":\"\"}}}],\"scattermapbox\":[{\"type\":\"scattermapbox\",\"marker\":{\"colorbar\":{\"outlinewidth\":0,\"ticks\":\"\"}}}],\"scatterternary\":[{\"type\":\"scatterternary\",\"marker\":{\"colorbar\":{\"outlinewidth\":0,\"ticks\":\"\"}}}],\"scattercarpet\":[{\"type\":\"scattercarpet\",\"marker\":{\"colorbar\":{\"outlinewidth\":0,\"ticks\":\"\"}}}],\"carpet\":[{\"aaxis\":{\"endlinecolor\":\"#2a3f5f\",\"gridcolor\":\"white\",\"linecolor\":\"white\",\"minorgridcolor\":\"white\",\"startlinecolor\":\"#2a3f5f\"},\"baxis\":{\"endlinecolor\":\"#2a3f5f\",\"gridcolor\":\"white\",\"linecolor\":\"white\",\"minorgridcolor\":\"white\",\"startlinecolor\":\"#2a3f5f\"},\"type\":\"carpet\"}],\"table\":[{\"cells\":{\"fill\":{\"color\":\"#EBF0F8\"},\"line\":{\"color\":\"white\"}},\"header\":{\"fill\":{\"color\":\"#C8D4E3\"},\"line\":{\"color\":\"white\"}},\"type\":\"table\"}],\"barpolar\":[{\"marker\":{\"line\":{\"color\":\"#E5ECF6\",\"width\":0.5},\"pattern\":{\"fillmode\":\"overlay\",\"size\":10,\"solidity\":0.2}},\"type\":\"barpolar\"}],\"pie\":[{\"automargin\":true,\"type\":\"pie\"}]},\"layout\":{\"autotypenumbers\":\"strict\",\"colorway\":[\"#636efa\",\"#EF553B\",\"#00cc96\",\"#ab63fa\",\"#FFA15A\",\"#19d3f3\",\"#FF6692\",\"#B6E880\",\"#FF97FF\",\"#FECB52\"],\"font\":{\"color\":\"#2a3f5f\"},\"hovermode\":\"closest\",\"hoverlabel\":{\"align\":\"left\"},\"paper_bgcolor\":\"white\",\"plot_bgcolor\":\"#E5ECF6\",\"polar\":{\"bgcolor\":\"#E5ECF6\",\"angularaxis\":{\"gridcolor\":\"white\",\"linecolor\":\"white\",\"ticks\":\"\"},\"radialaxis\":{\"gridcolor\":\"white\",\"linecolor\":\"white\",\"ticks\":\"\"}},\"ternary\":{\"bgcolor\":\"#E5ECF6\",\"aaxis\":{\"gridcolor\":\"white\",\"linecolor\":\"white\",\"ticks\":\"\"},\"baxis\":{\"gridcolor\":\"white\",\"linecolor\":\"white\",\"ticks\":\"\"},\"caxis\":{\"gridcolor\":\"white\",\"linecolor\":\"white\",\"ticks\":\"\"}},\"coloraxis\":{\"colorbar\":{\"outlinewidth\":0,\"ticks\":\"\"}},\"colorscale\":{\"sequential\":[[0.0,\"#0d0887\"],[0.1111111111111111,\"#46039f\"],[0.2222222222222222,\"#7201a8\"],[0.3333333333333333,\"#9c179e\"],[0.4444444444444444,\"#bd3786\"],[0.5555555555555556,\"#d8576b\"],[0.6666666666666666,\"#ed7953\"],[0.7777777777777778,\"#fb9f3a\"],[0.8888888888888888,\"#fdca26\"],[1.0,\"#f0f921\"]],\"sequentialminus\":[[0.0,\"#0d0887\"],[0.1111111111111111,\"#46039f\"],[0.2222222222222222,\"#7201a8\"],[0.3333333333333333,\"#9c179e\"],[0.4444444444444444,\"#bd3786\"],[0.5555555555555556,\"#d8576b\"],[0.6666666666666666,\"#ed7953\"],[0.7777777777777778,\"#fb9f3a\"],[0.8888888888888888,\"#fdca26\"],[1.0,\"#f0f921\"]],\"diverging\":[[0,\"#8e0152\"],[0.1,\"#c51b7d\"],[0.2,\"#de77ae\"],[0.3,\"#f1b6da\"],[0.4,\"#fde0ef\"],[0.5,\"#f7f7f7\"],[0.6,\"#e6f5d0\"],[0.7,\"#b8e186\"],[0.8,\"#7fbc41\"],[0.9,\"#4d9221\"],[1,\"#276419\"]]},\"xaxis\":{\"gridcolor\":\"white\",\"linecolor\":\"white\",\"ticks\":\"\",\"title\":{\"standoff\":15},\"zerolinecolor\":\"white\",\"automargin\":true,\"zerolinewidth\":2},\"yaxis\":{\"gridcolor\":\"white\",\"linecolor\":\"white\",\"ticks\":\"\",\"title\":{\"standoff\":15},\"zerolinecolor\":\"white\",\"automargin\":true,\"zerolinewidth\":2},\"scene\":{\"xaxis\":{\"backgroundcolor\":\"#E5ECF6\",\"gridcolor\":\"white\",\"linecolor\":\"white\",\"showbackground\":true,\"ticks\":\"\",\"zerolinecolor\":\"white\",\"gridwidth\":2},\"yaxis\":{\"backgroundcolor\":\"#E5ECF6\",\"gridcolor\":\"white\",\"linecolor\":\"white\",\"showbackground\":true,\"ticks\":\"\",\"zerolinecolor\":\"white\",\"gridwidth\":2},\"zaxis\":{\"backgroundcolor\":\"#E5ECF6\",\"gridcolor\":\"white\",\"linecolor\":\"white\",\"showbackground\":true,\"ticks\":\"\",\"zerolinecolor\":\"white\",\"gridwidth\":2}},\"shapedefaults\":{\"line\":{\"color\":\"#2a3f5f\"}},\"annotationdefaults\":{\"arrowcolor\":\"#2a3f5f\",\"arrowhead\":0,\"arrowwidth\":1},\"geo\":{\"bgcolor\":\"white\",\"landcolor\":\"#E5ECF6\",\"subunitcolor\":\"white\",\"showland\":true,\"showlakes\":true,\"lakecolor\":\"white\"},\"title\":{\"x\":0.05},\"mapbox\":{\"style\":\"light\"}}},\"xaxis\":{\"anchor\":\"y\",\"domain\":[0.0,1.0],\"scaleanchor\":\"y\",\"constrain\":\"domain\"},\"yaxis\":{\"anchor\":\"x\",\"domain\":[0.0,1.0],\"autorange\":\"reversed\",\"constrain\":\"domain\"},\"coloraxis\":{\"colorscale\":[[0.0,\"#0d0887\"],[0.1111111111111111,\"#46039f\"],[0.2222222222222222,\"#7201a8\"],[0.3333333333333333,\"#9c179e\"],[0.4444444444444444,\"#bd3786\"],[0.5555555555555556,\"#d8576b\"],[0.6666666666666666,\"#ed7953\"],[0.7777777777777778,\"#fb9f3a\"],[0.8888888888888888,\"#fdca26\"],[1.0,\"#f0f921\"]]},\"margin\":{\"t\":60}},                        {\"responsive\": true}                    ).then(function(){\n",
       "                            \n",
       "var gd = document.getElementById('e5aa995f-946e-4818-b7a0-46d07a3f6858');\n",
       "var x = new MutationObserver(function (mutations, observer) {{\n",
       "        var display = window.getComputedStyle(gd).display;\n",
       "        if (!display || display === 'none') {{\n",
       "            console.log([gd, 'removed!']);\n",
       "            Plotly.purge(gd);\n",
       "            observer.disconnect();\n",
       "        }}\n",
       "}});\n",
       "\n",
       "// Listen for the removal of the full notebook cells\n",
       "var notebookContainer = gd.closest('#notebook-container');\n",
       "if (notebookContainer) {{\n",
       "    x.observe(notebookContainer, {childList: true});\n",
       "}}\n",
       "\n",
       "// Listen for the clearing of the current output cell\n",
       "var outputEl = gd.closest('.output');\n",
       "if (outputEl) {{\n",
       "    x.observe(outputEl, {childList: true});\n",
       "}}\n",
       "\n",
       "                        })                };                });            </script>        </div>"
      ]
     },
     "metadata": {},
     "output_type": "display_data"
    }
   ],
   "source": [
    "px.imshow(df.corr(),)"
   ]
  },
  {
   "cell_type": "markdown",
   "id": "b0083dc9",
   "metadata": {},
   "source": [
    "- Encoding : explicit the \"num_pages_cat_num\" column by converting it to 3 columns"
   ]
  },
  {
   "cell_type": "code",
   "execution_count": 468,
   "id": "c27e9419",
   "metadata": {
    "scrolled": true
   },
   "outputs": [
    {
     "data": {
      "text/html": [
       "<div>\n",
       "<style scoped>\n",
       "    .dataframe tbody tr th:only-of-type {\n",
       "        vertical-align: middle;\n",
       "    }\n",
       "\n",
       "    .dataframe tbody tr th {\n",
       "        vertical-align: top;\n",
       "    }\n",
       "\n",
       "    .dataframe thead th {\n",
       "        text-align: right;\n",
       "    }\n",
       "</style>\n",
       "<table border=\"1\" class=\"dataframe\">\n",
       "  <thead>\n",
       "    <tr style=\"text-align: right;\">\n",
       "      <th></th>\n",
       "      <th>average_rating_cat_num</th>\n",
       "      <th>ratings_count</th>\n",
       "      <th>text_reviews_count</th>\n",
       "      <th>num_occ</th>\n",
       "      <th>1</th>\n",
       "      <th>2</th>\n",
       "    </tr>\n",
       "  </thead>\n",
       "  <tbody>\n",
       "    <tr>\n",
       "      <th>0</th>\n",
       "      <td>1</td>\n",
       "      <td>2095690</td>\n",
       "      <td>27591</td>\n",
       "      <td>2</td>\n",
       "      <td>0</td>\n",
       "      <td>1</td>\n",
       "    </tr>\n",
       "    <tr>\n",
       "      <th>1</th>\n",
       "      <td>1</td>\n",
       "      <td>2153167</td>\n",
       "      <td>29221</td>\n",
       "      <td>1</td>\n",
       "      <td>0</td>\n",
       "      <td>1</td>\n",
       "    </tr>\n",
       "    <tr>\n",
       "      <th>2</th>\n",
       "      <td>1</td>\n",
       "      <td>6333</td>\n",
       "      <td>244</td>\n",
       "      <td>2</td>\n",
       "      <td>1</td>\n",
       "      <td>0</td>\n",
       "    </tr>\n",
       "    <tr>\n",
       "      <th>3</th>\n",
       "      <td>1</td>\n",
       "      <td>2339585</td>\n",
       "      <td>36325</td>\n",
       "      <td>2</td>\n",
       "      <td>1</td>\n",
       "      <td>0</td>\n",
       "    </tr>\n",
       "    <tr>\n",
       "      <th>5</th>\n",
       "      <td>0</td>\n",
       "      <td>19</td>\n",
       "      <td>1</td>\n",
       "      <td>1</td>\n",
       "      <td>1</td>\n",
       "      <td>0</td>\n",
       "    </tr>\n",
       "    <tr>\n",
       "      <th>...</th>\n",
       "      <td>...</td>\n",
       "      <td>...</td>\n",
       "      <td>...</td>\n",
       "      <td>...</td>\n",
       "      <td>...</td>\n",
       "      <td>...</td>\n",
       "    </tr>\n",
       "    <tr>\n",
       "      <th>11118</th>\n",
       "      <td>1</td>\n",
       "      <td>156</td>\n",
       "      <td>20</td>\n",
       "      <td>1</td>\n",
       "      <td>0</td>\n",
       "      <td>1</td>\n",
       "    </tr>\n",
       "    <tr>\n",
       "      <th>11119</th>\n",
       "      <td>1</td>\n",
       "      <td>783</td>\n",
       "      <td>56</td>\n",
       "      <td>1</td>\n",
       "      <td>0</td>\n",
       "      <td>1</td>\n",
       "    </tr>\n",
       "    <tr>\n",
       "      <th>11120</th>\n",
       "      <td>1</td>\n",
       "      <td>820</td>\n",
       "      <td>95</td>\n",
       "      <td>1</td>\n",
       "      <td>1</td>\n",
       "      <td>0</td>\n",
       "    </tr>\n",
       "    <tr>\n",
       "      <th>11121</th>\n",
       "      <td>0</td>\n",
       "      <td>769</td>\n",
       "      <td>139</td>\n",
       "      <td>1</td>\n",
       "      <td>1</td>\n",
       "      <td>0</td>\n",
       "    </tr>\n",
       "    <tr>\n",
       "      <th>11122</th>\n",
       "      <td>1</td>\n",
       "      <td>113</td>\n",
       "      <td>12</td>\n",
       "      <td>1</td>\n",
       "      <td>1</td>\n",
       "      <td>0</td>\n",
       "    </tr>\n",
       "  </tbody>\n",
       "</table>\n",
       "<p>10664 rows × 6 columns</p>\n",
       "</div>"
      ],
      "text/plain": [
       "       average_rating_cat_num  ratings_count  text_reviews_count  num_occ  1  \\\n",
       "0                           1        2095690               27591        2  0   \n",
       "1                           1        2153167               29221        1  0   \n",
       "2                           1           6333                 244        2  1   \n",
       "3                           1        2339585               36325        2  1   \n",
       "5                           0             19                   1        1  1   \n",
       "...                       ...            ...                 ...      ... ..   \n",
       "11118                       1            156                  20        1  0   \n",
       "11119                       1            783                  56        1  0   \n",
       "11120                       1            820                  95        1  1   \n",
       "11121                       0            769                 139        1  1   \n",
       "11122                       1            113                  12        1  1   \n",
       "\n",
       "       2  \n",
       "0      1  \n",
       "1      1  \n",
       "2      0  \n",
       "3      0  \n",
       "5      0  \n",
       "...   ..  \n",
       "11118  1  \n",
       "11119  1  \n",
       "11120  0  \n",
       "11121  0  \n",
       "11122  0  \n",
       "\n",
       "[10664 rows x 6 columns]"
      ]
     },
     "execution_count": 468,
     "metadata": {},
     "output_type": "execute_result"
    }
   ],
   "source": [
    "# This is a way to explicit the \"num_pages_cat_num\" column by transforming it to 3 columns corresponding to each of its values\n",
    "# This is known as encoding\n",
    "df = pd.concat([df,pd.get_dummies(df.num_pages_cat_num)],axis=1).drop(columns=\"num_pages_cat_num\")\n",
    "df = df[['average_rating_cat_num','ratings_count','text_reviews_count','num_occ',1,2]]\n",
    "df\n",
    "# Here is the dataframe on which we will base our predictions. It consists of numerical and categorical variables"
   ]
  },
  {
   "cell_type": "markdown",
   "id": "32f14cfb",
   "metadata": {},
   "source": [
    "# PART 3 : Prediction"
   ]
  },
  {
   "cell_type": "markdown",
   "id": "87f79857",
   "metadata": {},
   "source": [
    "- Split the data into Train and Test"
   ]
  },
  {
   "cell_type": "code",
   "execution_count": 469,
   "id": "675dd3c4",
   "metadata": {},
   "outputs": [],
   "source": [
    "from sklearn.model_selection import train_test_split"
   ]
  },
  {
   "cell_type": "code",
   "execution_count": 470,
   "id": "043f4eeb",
   "metadata": {},
   "outputs": [],
   "source": [
    "df_train, df_test = train_test_split(df,test_size = 0.2)"
   ]
  },
  {
   "cell_type": "code",
   "execution_count": 471,
   "id": "295924b2",
   "metadata": {},
   "outputs": [
    {
     "name": "stdout",
     "output_type": "stream",
     "text": [
      "563.4879969992498\n",
      "576.0202789825343\n",
      "513.3647444913267\n"
     ]
    }
   ],
   "source": [
    "# We have similar results which proves that our split is coherent \n",
    "print(df.text_reviews_count.mean())\n",
    "print(df_train.text_reviews_count.mean())\n",
    "print(df_test.text_reviews_count.mean())"
   ]
  },
  {
   "cell_type": "code",
   "execution_count": 472,
   "id": "2fec3e67",
   "metadata": {},
   "outputs": [
    {
     "data": {
      "text/plain": [
       "Index(['average_rating_cat_num',          'ratings_count',\n",
       "           'text_reviews_count',                'num_occ',\n",
       "                              1,                        2],\n",
       "      dtype='object')"
      ]
     },
     "execution_count": 472,
     "metadata": {},
     "output_type": "execute_result"
    }
   ],
   "source": [
    "df_train.columns"
   ]
  },
  {
   "cell_type": "markdown",
   "id": "12e6ef67",
   "metadata": {},
   "source": [
    "- Initialize and train the model"
   ]
  },
  {
   "cell_type": "code",
   "execution_count": 473,
   "id": "b171a0b6",
   "metadata": {},
   "outputs": [],
   "source": [
    "# Get the values of the columns for the training data\n",
    "X_train = df_train.loc[:,['ratings_count','text_reviews_count','num_occ',1,2]].values\n",
    "y_train = df_train.average_rating_cat_num.values"
   ]
  },
  {
   "cell_type": "code",
   "execution_count": 474,
   "id": "9067aa12",
   "metadata": {},
   "outputs": [],
   "source": [
    "# Get the values of the columns for the test data\n",
    "X_test = df_test.loc[:,['ratings_count','text_reviews_count','num_occ',1,2]].values\n",
    "y_test = df_test.average_rating_cat_num.values"
   ]
  },
  {
   "cell_type": "markdown",
   "id": "ebf98987",
   "metadata": {},
   "source": [
    "- First model : logistic regression"
   ]
  },
  {
   "cell_type": "code",
   "execution_count": 475,
   "id": "3f2140ad",
   "metadata": {},
   "outputs": [],
   "source": [
    "from sklearn.linear_model import LogisticRegression\n",
    "# It is a binary logistic model.It models the probability of one event for the event be a linear combination of one or more independent variables\n",
    "# Our predictors : ratings_count, text_reviews_count, num_occ, num_pages 1 and 2"
   ]
  },
  {
   "cell_type": "code",
   "execution_count": 476,
   "id": "3149253c",
   "metadata": {},
   "outputs": [],
   "source": [
    "# Here we initialize the model\n",
    "lr_model = LogisticRegression(random_state=0,max_iter=1000)"
   ]
  },
  {
   "cell_type": "code",
   "execution_count": 477,
   "id": "2210893d",
   "metadata": {},
   "outputs": [
    {
     "data": {
      "text/plain": [
       "LogisticRegression(max_iter=1000, random_state=0)"
      ]
     },
     "execution_count": 477,
     "metadata": {},
     "output_type": "execute_result"
    }
   ],
   "source": [
    "# Here we train the model on the training data\n",
    "lr_model.fit(X=X_train, y=y_train)"
   ]
  },
  {
   "cell_type": "code",
   "execution_count": 478,
   "id": "36d4af85",
   "metadata": {},
   "outputs": [],
   "source": [
    "y_test_predicted = lr_model.predict(X_test)"
   ]
  },
  {
   "cell_type": "code",
   "execution_count": 479,
   "id": "a22818f3",
   "metadata": {},
   "outputs": [
    {
     "data": {
      "text/plain": [
       "array([1, 1, 1, ..., 1, 1, 1], dtype=int64)"
      ]
     },
     "execution_count": 479,
     "metadata": {},
     "output_type": "execute_result"
    }
   ],
   "source": [
    "y_test_predicted"
   ]
  },
  {
   "cell_type": "code",
   "execution_count": 480,
   "id": "3b189355",
   "metadata": {},
   "outputs": [
    {
     "data": {
      "text/plain": [
       "array([0, 1, 1, ..., 1, 1, 1], dtype=int64)"
      ]
     },
     "execution_count": 480,
     "metadata": {},
     "output_type": "execute_result"
    }
   ],
   "source": [
    "y_test"
   ]
  },
  {
   "cell_type": "markdown",
   "id": "ee4dec3f",
   "metadata": {},
   "source": [
    "- Evaluate the prediction"
   ]
  },
  {
   "cell_type": "code",
   "execution_count": 481,
   "id": "87bdac8f",
   "metadata": {},
   "outputs": [
    {
     "data": {
      "text/plain": [
       "0.6962025316455697"
      ]
     },
     "execution_count": 481,
     "metadata": {},
     "output_type": "execute_result"
    }
   ],
   "source": [
    "(y_test_predicted == y_test).sum()/len(y_test)"
   ]
  },
  {
   "cell_type": "code",
   "execution_count": 482,
   "id": "d2c0459b",
   "metadata": {},
   "outputs": [],
   "source": [
    "# The score is not that good but it's a prediction\n",
    "# It will not be effective if we have to predict a terrorist act but on our scale it is already an indicator\n",
    "# We will use a logistic regression model in order to be able to compare our different models"
   ]
  },
  {
   "cell_type": "code",
   "execution_count": 483,
   "id": "f8b064c2",
   "metadata": {},
   "outputs": [],
   "source": [
    "from sklearn.metrics import confusion_matrix"
   ]
  },
  {
   "cell_type": "code",
   "execution_count": 484,
   "id": "da507d68",
   "metadata": {},
   "outputs": [],
   "source": [
    "cf = pd.DataFrame(\n",
    "    columns=[\"y_test_0\",\"y_test_1\"],index=[\"y_pred_0\",\"y_pred_1\"]\n",
    ")"
   ]
  },
  {
   "cell_type": "code",
   "execution_count": 485,
   "id": "6844cf71",
   "metadata": {},
   "outputs": [
    {
     "data": {
      "text/plain": [
       "1    7558\n",
       "0    3106\n",
       "Name: average_rating_cat_num, dtype: int64"
      ]
     },
     "execution_count": 485,
     "metadata": {},
     "output_type": "execute_result"
    }
   ],
   "source": [
    "df['average_rating_cat_num'].value_counts()"
   ]
  },
  {
   "cell_type": "code",
   "execution_count": 486,
   "id": "33c68f30",
   "metadata": {},
   "outputs": [
    {
     "data": {
      "text/html": [
       "<div>\n",
       "<style scoped>\n",
       "    .dataframe tbody tr th:only-of-type {\n",
       "        vertical-align: middle;\n",
       "    }\n",
       "\n",
       "    .dataframe tbody tr th {\n",
       "        vertical-align: top;\n",
       "    }\n",
       "\n",
       "    .dataframe thead th {\n",
       "        text-align: right;\n",
       "    }\n",
       "</style>\n",
       "<table border=\"1\" class=\"dataframe\">\n",
       "  <thead>\n",
       "    <tr style=\"text-align: right;\">\n",
       "      <th></th>\n",
       "      <th>y_test_0</th>\n",
       "      <th>y_test_1</th>\n",
       "    </tr>\n",
       "  </thead>\n",
       "  <tbody>\n",
       "    <tr>\n",
       "      <th>y_pred_0</th>\n",
       "      <td>15</td>\n",
       "      <td>602</td>\n",
       "    </tr>\n",
       "    <tr>\n",
       "      <th>y_pred_1</th>\n",
       "      <td>46</td>\n",
       "      <td>1470</td>\n",
       "    </tr>\n",
       "  </tbody>\n",
       "</table>\n",
       "</div>"
      ],
      "text/plain": [
       "         y_test_0 y_test_1\n",
       "y_pred_0       15      602\n",
       "y_pred_1       46     1470"
      ]
     },
     "execution_count": 486,
     "metadata": {},
     "output_type": "execute_result"
    }
   ],
   "source": [
    "cf.loc[:,:] = confusion_matrix(y_true= y_test,y_pred= y_test_predicted)\n",
    "cf"
   ]
  },
  {
   "cell_type": "code",
   "execution_count": 487,
   "id": "dc2bb70e",
   "metadata": {},
   "outputs": [
    {
     "data": {
      "text/html": [
       "<div>\n",
       "<style scoped>\n",
       "    .dataframe tbody tr th:only-of-type {\n",
       "        vertical-align: middle;\n",
       "    }\n",
       "\n",
       "    .dataframe tbody tr th {\n",
       "        vertical-align: top;\n",
       "    }\n",
       "\n",
       "    .dataframe thead th {\n",
       "        text-align: right;\n",
       "    }\n",
       "</style>\n",
       "<table border=\"1\" class=\"dataframe\">\n",
       "  <thead>\n",
       "    <tr style=\"text-align: right;\">\n",
       "      <th></th>\n",
       "      <th>y_test_0</th>\n",
       "      <th>y_test_1</th>\n",
       "    </tr>\n",
       "  </thead>\n",
       "  <tbody>\n",
       "    <tr>\n",
       "      <th>y_pred_0</th>\n",
       "      <td>0.007032</td>\n",
       "      <td>0.282232</td>\n",
       "    </tr>\n",
       "    <tr>\n",
       "      <th>y_pred_1</th>\n",
       "      <td>0.021566</td>\n",
       "      <td>0.68917</td>\n",
       "    </tr>\n",
       "  </tbody>\n",
       "</table>\n",
       "</div>"
      ],
      "text/plain": [
       "          y_test_0  y_test_1\n",
       "y_pred_0  0.007032  0.282232\n",
       "y_pred_1  0.021566   0.68917"
      ]
     },
     "execution_count": 487,
     "metadata": {},
     "output_type": "execute_result"
    }
   ],
   "source": [
    "cf/len(y_test)"
   ]
  },
  {
   "cell_type": "code",
   "execution_count": 488,
   "id": "20386cba",
   "metadata": {},
   "outputs": [],
   "source": [
    "from sklearn.metrics import recall_score, precision_score"
   ]
  },
  {
   "cell_type": "code",
   "execution_count": 489,
   "id": "9134988f",
   "metadata": {},
   "outputs": [
    {
     "data": {
      "text/plain": [
       "0.9696569920844327"
      ]
     },
     "execution_count": 489,
     "metadata": {},
     "output_type": "execute_result"
    }
   ],
   "source": [
    "recall_score(y_true=y_test, y_pred=y_test_predicted)"
   ]
  },
  {
   "cell_type": "code",
   "execution_count": 490,
   "id": "36f71f99",
   "metadata": {},
   "outputs": [
    {
     "data": {
      "text/plain": [
       "0.7094594594594594"
      ]
     },
     "execution_count": 490,
     "metadata": {},
     "output_type": "execute_result"
    }
   ],
   "source": [
    "precision_score(y_true=y_test, y_pred=y_test_predicted)"
   ]
  },
  {
   "cell_type": "code",
   "execution_count": 491,
   "id": "cdee8c8a",
   "metadata": {},
   "outputs": [],
   "source": [
    "from sklearn.metrics import classification_report"
   ]
  },
  {
   "cell_type": "code",
   "execution_count": 492,
   "id": "46998836",
   "metadata": {},
   "outputs": [],
   "source": [
    "report =classification_report(y_true=y_test, y_pred=y_test_predicted)\n",
    "print(report)"
   ]
  },
  {
   "cell_type": "code",
   "execution_count": 494,
   "id": "bfae1f3e",
   "metadata": {},
   "outputs": [],
   "source": [
    "from sklearn.neural_network import MLPClassifier"
   ]
  },
  {
   "cell_type": "code",
   "execution_count": 495,
   "id": "e7588011",
   "metadata": {},
   "outputs": [],
   "source": [
    "# Try a new classifier: Multi-Layer Perceptron classifier\n",
    "\n",
    "nn_model = MLPClassifier(hidden_layer_sizes=(20,10),max_iter=1000)"
   ]
  },
  {
   "cell_type": "code",
   "execution_count": 496,
   "id": "7ab4db70",
   "metadata": {},
   "outputs": [
    {
     "data": {
      "text/plain": [
       "MLPClassifier(hidden_layer_sizes=(20, 10), max_iter=1000)"
      ]
     },
     "execution_count": 496,
     "metadata": {},
     "output_type": "execute_result"
    }
   ],
   "source": [
    "nn_model.fit(X=X_train,y=y_train)"
   ]
  },
  {
   "cell_type": "code",
   "execution_count": 497,
   "id": "0db545d2",
   "metadata": {},
   "outputs": [],
   "source": [
    "y_test_predicted_nn = nn_model.predict(X_test)"
   ]
  },
  {
   "cell_type": "code",
   "execution_count": 498,
   "id": "d66a19fe",
   "metadata": {},
   "outputs": [],
   "source": [
    "report_nn = classification_report(y_pred=y_test_predicted_nn,y_true=y_test)"
   ]
  },
  {
   "cell_type": "code",
   "execution_count": 499,
   "id": "68e0d1c3",
   "metadata": {},
   "outputs": [
    {
     "data": {
      "text/plain": [
       "'              precision    recall  f1-score   support\\n\\n           0       0.34      0.13      0.19       617\\n           1       0.72      0.90      0.80      1516\\n\\n    accuracy                           0.68      2133\\n   macro avg       0.53      0.51      0.49      2133\\nweighted avg       0.61      0.68      0.62      2133\\n'"
      ]
     },
     "execution_count": 499,
     "metadata": {},
     "output_type": "execute_result"
    }
   ],
   "source": [
    "report_nn"
   ]
  },
  {
   "cell_type": "code",
   "execution_count": 500,
   "id": "710d6ce3",
   "metadata": {},
   "outputs": [],
   "source": [
    "# Decision tree are model than we can both use for regression and classification\n",
    "from sklearn.tree import DecisionTreeClassifier"
   ]
  },
  {
   "cell_type": "code",
   "execution_count": 501,
   "id": "5595e598",
   "metadata": {},
   "outputs": [],
   "source": [
    "# Try a Decision Tree classifier\n",
    "dt_model = DecisionTreeClassifier()"
   ]
  },
  {
   "cell_type": "code",
   "execution_count": 502,
   "id": "c13c55dc",
   "metadata": {},
   "outputs": [
    {
     "data": {
      "text/plain": [
       "DecisionTreeClassifier()"
      ]
     },
     "execution_count": 502,
     "metadata": {},
     "output_type": "execute_result"
    }
   ],
   "source": [
    "dt_model.fit(X=X_train,y=y_train)"
   ]
  },
  {
   "cell_type": "code",
   "execution_count": 503,
   "id": "9c967ff9",
   "metadata": {},
   "outputs": [],
   "source": [
    "y_test_predicted_dt = dt_model.predict(X_test)"
   ]
  },
  {
   "cell_type": "code",
   "execution_count": 504,
   "id": "5ae0d717",
   "metadata": {},
   "outputs": [],
   "source": [
    "report_dt = classification_report(y_pred=y_test_predicted_dt,y_true=y_test)"
   ]
  },
  {
   "cell_type": "code",
   "execution_count": 505,
   "id": "8f696b98",
   "metadata": {},
   "outputs": [
    {
     "data": {
      "text/plain": [
       "'              precision    recall  f1-score   support\\n\\n           0       0.33      0.34      0.33       617\\n           1       0.73      0.72      0.72      1516\\n\\n    accuracy                           0.61      2133\\n   macro avg       0.53      0.53      0.53      2133\\nweighted avg       0.61      0.61      0.61      2133\\n'"
      ]
     },
     "execution_count": 505,
     "metadata": {},
     "output_type": "execute_result"
    }
   ],
   "source": [
    "report_dt"
   ]
  },
  {
   "cell_type": "markdown",
   "id": "2f6476bb",
   "metadata": {},
   "source": [
    "- Compare different models"
   ]
  },
  {
   "cell_type": "code",
   "execution_count": 506,
   "id": "f5bff0d2",
   "metadata": {},
   "outputs": [],
   "source": [
    "from sklearn.ensemble import RandomForestClassifier"
   ]
  },
  {
   "cell_type": "code",
   "execution_count": 507,
   "id": "ac718f08",
   "metadata": {},
   "outputs": [],
   "source": [
    "# Try an ensemble classifier: Random Forest\n",
    "rf_model = RandomForestClassifier()"
   ]
  },
  {
   "cell_type": "code",
   "execution_count": 508,
   "id": "5714ab65",
   "metadata": {},
   "outputs": [
    {
     "data": {
      "text/plain": [
       "RandomForestClassifier()"
      ]
     },
     "execution_count": 508,
     "metadata": {},
     "output_type": "execute_result"
    }
   ],
   "source": [
    "rf_model.fit(X=X_train,y=y_train)"
   ]
  },
  {
   "cell_type": "code",
   "execution_count": 509,
   "id": "6df00b3c",
   "metadata": {},
   "outputs": [],
   "source": [
    "y_test_predicted_rf = rf_model.predict(X_test)"
   ]
  },
  {
   "cell_type": "code",
   "execution_count": 510,
   "id": "4119a5a3",
   "metadata": {},
   "outputs": [],
   "source": [
    "report_rf = classification_report(y_pred=y_test_predicted_rf,y_true=y_test)"
   ]
  },
  {
   "cell_type": "code",
   "execution_count": 511,
   "id": "09ceba52",
   "metadata": {},
   "outputs": [
    {
     "name": "stdout",
     "output_type": "stream",
     "text": [
      "Report of logistic regression\n",
      "              precision    recall  f1-score   support\n",
      "\n",
      "           0       0.25      0.02      0.04       617\n",
      "           1       0.71      0.97      0.82      1516\n",
      "\n",
      "    accuracy                           0.70      2133\n",
      "   macro avg       0.48      0.50      0.43      2133\n",
      "weighted avg       0.58      0.70      0.60      2133\n",
      "\n"
     ]
    }
   ],
   "source": [
    "print(\"Report of logistic regression\")\n",
    "print(report)"
   ]
  },
  {
   "cell_type": "code",
   "execution_count": null,
   "id": "0f28c971",
   "metadata": {},
   "outputs": [],
   "source": [
    "# With logistic regression we have the best results to predict the 1 but we have the worst to predict the 0. "
   ]
  },
  {
   "cell_type": "code",
   "execution_count": 512,
   "id": "2a246f29",
   "metadata": {},
   "outputs": [
    {
     "name": "stdout",
     "output_type": "stream",
     "text": [
      "Report of MLP model\n",
      "              precision    recall  f1-score   support\n",
      "\n",
      "           0       0.34      0.13      0.19       617\n",
      "           1       0.72      0.90      0.80      1516\n",
      "\n",
      "    accuracy                           0.68      2133\n",
      "   macro avg       0.53      0.51      0.49      2133\n",
      "weighted avg       0.61      0.68      0.62      2133\n",
      "\n"
     ]
    }
   ],
   "source": [
    "print(\"Report of MLP model\")\n",
    "print(report_nn)"
   ]
  },
  {
   "cell_type": "code",
   "execution_count": null,
   "id": "69cbea1b",
   "metadata": {},
   "outputs": [],
   "source": [
    "# With neural network we don't have pretty good results"
   ]
  },
  {
   "cell_type": "code",
   "execution_count": 513,
   "id": "95d3020f",
   "metadata": {},
   "outputs": [
    {
     "name": "stdout",
     "output_type": "stream",
     "text": [
      "Report of Decision Tree classifier model\n",
      "              precision    recall  f1-score   support\n",
      "\n",
      "           0       0.33      0.34      0.33       617\n",
      "           1       0.73      0.72      0.72      1516\n",
      "\n",
      "    accuracy                           0.61      2133\n",
      "   macro avg       0.53      0.53      0.53      2133\n",
      "weighted avg       0.61      0.61      0.61      2133\n",
      "\n"
     ]
    }
   ],
   "source": [
    "print(\"Report of Decision Tree classifier model\")\n",
    "print(report_dt)"
   ]
  },
  {
   "cell_type": "code",
   "execution_count": null,
   "id": "5f31ed61",
   "metadata": {},
   "outputs": [],
   "source": [
    "# With the decision tree we have the best results to predict the 0 compare to other model but it' bad for predict 1."
   ]
  },
  {
   "cell_type": "code",
   "execution_count": 515,
   "id": "92ca8e1c",
   "metadata": {},
   "outputs": [
    {
     "name": "stdout",
     "output_type": "stream",
     "text": [
      "Report of Random Forest model\n",
      "              precision    recall  f1-score   support\n",
      "\n",
      "           0       0.32      0.23      0.27       617\n",
      "           1       0.72      0.80      0.76      1516\n",
      "\n",
      "    accuracy                           0.63      2133\n",
      "   macro avg       0.52      0.51      0.51      2133\n",
      "weighted avg       0.60      0.63      0.61      2133\n",
      "\n"
     ]
    }
   ],
   "source": [
    "print(\"Report of Random Forest model\")\n",
    "print(report_rf)"
   ]
  },
  {
   "cell_type": "code",
   "execution_count": null,
   "id": "5312cd61",
   "metadata": {},
   "outputs": [],
   "source": [
    "# With Random Forest it is not enough: neither for the 0 neither for the 1"
   ]
  },
  {
   "cell_type": "markdown",
   "id": "97ba1257",
   "metadata": {},
   "source": [
    "To conclude : \n",
    "    \n",
    "Concerning the models, it is necessary to distinguish between the prediction of 0s and 1s, that is to say books which have rather disappointed readers from books which have rather satisfied readers.\n",
    "Our different models have a much better ability to predict 1s than 0s.\n",
    "In addition, the results must be weighted:\n",
    "There is more data concerning the 1s so on average this will pull up the result of our predictions. Hence the importance of distinguishing between 0, 1, precision, recall, f1-score and support.\n",
    "\n",
    "When we evaluate our model in the classification task we have to think about many things : choice of features / Dataset (cleaning) / model / model parmeters\n",
    "\n",
    "Then the question is where we can improve the dataset, the model ?\n",
    "Do not hesitate to do retro engineering to get better performance.\n",
    "For the moment we did a lot and had relevant result so we will not do retro engineering.\n",
    "\n",
    "For further we could add a new category of appreciation of the books or change the limit of our actual categories\n"
   ]
  },
  {
   "cell_type": "code",
   "execution_count": null,
   "id": "8ae40b32",
   "metadata": {},
   "outputs": [],
   "source": []
  }
 ],
 "metadata": {
  "kernelspec": {
   "display_name": "Python 3 (ipykernel)",
   "language": "python",
   "name": "python3"
  },
  "language_info": {
   "codemirror_mode": {
    "name": "ipython",
    "version": 3
   },
   "file_extension": ".py",
   "mimetype": "text/x-python",
   "name": "python",
   "nbconvert_exporter": "python",
   "pygments_lexer": "ipython3",
   "version": "3.9.7"
  }
 },
 "nbformat": 4,
 "nbformat_minor": 5
}
